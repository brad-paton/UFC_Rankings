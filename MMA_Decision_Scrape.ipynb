{
 "cells": [
  {
   "cell_type": "code",
   "execution_count": 1,
   "metadata": {},
   "outputs": [],
   "source": [
    "from datetime import datetime\n",
    "import requests\n",
    "import pandas as pd\n",
    "from bs4 import BeautifulSoup"
   ]
  },
  {
   "cell_type": "code",
   "execution_count": 10,
   "metadata": {},
   "outputs": [],
   "source": [
    "urls_yearly_events = []\n",
    "currentyear = datetime.now().year\n",
    "\n",
    "for year in range(1994, currentyear + 1):\n",
    "    newurl = 'https://mmadecisions.com/decisions-by-event/' + str(year) + '/'\n",
    "    urls_yearly_events.append(newurl)"
   ]
  },
  {
   "cell_type": "code",
   "execution_count": 11,
   "metadata": {},
   "outputs": [
    {
     "data": {
      "application/vnd.microsoft.datawrangler.viewer.v0+json": {
       "columns": [
        {
         "name": "index",
         "rawType": "int64",
         "type": "integer"
        },
        {
         "name": "Date",
         "rawType": "object",
         "type": "unknown"
        },
        {
         "name": "Event",
         "rawType": "object",
         "type": "string"
        },
        {
         "name": "NumFights",
         "rawType": "object",
         "type": "string"
        },
        {
         "name": "url",
         "rawType": "object",
         "type": "string"
        }
       ],
       "conversionMethod": "pd.DataFrame",
       "ref": "b0be46f9-887a-4b4f-ac74-9f56a857d7a9",
       "rows": [
        [
         "1490",
         "2025-03-15",
         "UFC on ESPN+ 112: Vettori vs. Dolidze 2",
         "4",
         "https://mmadecisions.com/event/1530/UFC-on-ESPN+-112-Vettori-vs-Dolidze-2"
        ],
        [
         "1489",
         "2025-03-15",
         "CW 185: Cage Warriors 185",
         "5",
         "https://mmadecisions.com/event/1532/CW-185-Cage-Warriors-185"
        ],
        [
         "1491",
         "2025-03-14",
         "CW 184: Unplugged",
         "3",
         "https://mmadecisions.com/event/1531/CW-184-Unplugged"
        ],
        [
         "1493",
         "2025-03-08",
         "UFC 313: Pereira vs. Ankalaev",
         "6",
         "https://mmadecisions.com/event/1529/UFC-313-Pereira-vs-Ankalaev"
        ],
        [
         "1492",
         "2025-03-08",
         "CW 183: Cage Warriors 183",
         "8",
         "https://mmadecisions.com/event/1528/CW-183-Cage-Warriors-183"
        ],
        [
         "1494",
         "2025-03-01",
         "UFC on ESPN+ 111: Kape vs. Almabayev",
         "6",
         "https://mmadecisions.com/event/1527/UFC-on-ESPN+-111-Kape-vs-Almabayev"
        ],
        [
         "1495",
         "2025-02-22",
         "UFC on ESPN+ 110: Cejudo vs. Song",
         "4",
         "https://mmadecisions.com/event/1526/UFC-on-ESPN+-110-Cejudo-vs-Song"
        ],
        [
         "1496",
         "2025-02-15",
         "UFC on ESPN+ 109: Cannonier vs. Rodrigues",
         "6",
         "https://mmadecisions.com/event/1525/UFC-on-ESPN+-109-Cannonier-vs-Rodrigues"
        ],
        [
         "1497",
         "2025-02-09",
         "UFC 312: du Plessis vs. Strickland 2",
         "9",
         "https://mmadecisions.com/event/1524/UFC-312-du-Plessis-vs-Strickland-2"
        ],
        [
         "1498",
         "2025-02-01",
         "UFC on ESPN+ 108: Adesanya vs. Imavov",
         "7",
         "https://mmadecisions.com/event/1523/UFC-on-ESPN+-108-Adesanya-vs-Imavov"
        ]
       ],
       "shape": {
        "columns": 4,
        "rows": 10
       }
      },
      "text/html": [
       "<div>\n",
       "<style scoped>\n",
       "    .dataframe tbody tr th:only-of-type {\n",
       "        vertical-align: middle;\n",
       "    }\n",
       "\n",
       "    .dataframe tbody tr th {\n",
       "        vertical-align: top;\n",
       "    }\n",
       "\n",
       "    .dataframe thead th {\n",
       "        text-align: right;\n",
       "    }\n",
       "</style>\n",
       "<table border=\"1\" class=\"dataframe\">\n",
       "  <thead>\n",
       "    <tr style=\"text-align: right;\">\n",
       "      <th></th>\n",
       "      <th>Date</th>\n",
       "      <th>Event</th>\n",
       "      <th>NumFights</th>\n",
       "      <th>url</th>\n",
       "    </tr>\n",
       "  </thead>\n",
       "  <tbody>\n",
       "    <tr>\n",
       "      <th>1490</th>\n",
       "      <td>2025-03-15</td>\n",
       "      <td>UFC on ESPN+ 112: Vettori vs. Dolidze 2</td>\n",
       "      <td>4</td>\n",
       "      <td>https://mmadecisions.com/event/1530/UFC-on-ESP...</td>\n",
       "    </tr>\n",
       "    <tr>\n",
       "      <th>1489</th>\n",
       "      <td>2025-03-15</td>\n",
       "      <td>CW 185: Cage Warriors 185</td>\n",
       "      <td>5</td>\n",
       "      <td>https://mmadecisions.com/event/1532/CW-185-Cag...</td>\n",
       "    </tr>\n",
       "    <tr>\n",
       "      <th>1491</th>\n",
       "      <td>2025-03-14</td>\n",
       "      <td>CW 184: Unplugged</td>\n",
       "      <td>3</td>\n",
       "      <td>https://mmadecisions.com/event/1531/CW-184-Unp...</td>\n",
       "    </tr>\n",
       "    <tr>\n",
       "      <th>1493</th>\n",
       "      <td>2025-03-08</td>\n",
       "      <td>UFC 313: Pereira vs. Ankalaev</td>\n",
       "      <td>6</td>\n",
       "      <td>https://mmadecisions.com/event/1529/UFC-313-Pe...</td>\n",
       "    </tr>\n",
       "    <tr>\n",
       "      <th>1492</th>\n",
       "      <td>2025-03-08</td>\n",
       "      <td>CW 183: Cage Warriors 183</td>\n",
       "      <td>8</td>\n",
       "      <td>https://mmadecisions.com/event/1528/CW-183-Cag...</td>\n",
       "    </tr>\n",
       "    <tr>\n",
       "      <th>1494</th>\n",
       "      <td>2025-03-01</td>\n",
       "      <td>UFC on ESPN+ 111: Kape vs. Almabayev</td>\n",
       "      <td>6</td>\n",
       "      <td>https://mmadecisions.com/event/1527/UFC-on-ESP...</td>\n",
       "    </tr>\n",
       "    <tr>\n",
       "      <th>1495</th>\n",
       "      <td>2025-02-22</td>\n",
       "      <td>UFC on ESPN+ 110: Cejudo vs. Song</td>\n",
       "      <td>4</td>\n",
       "      <td>https://mmadecisions.com/event/1526/UFC-on-ESP...</td>\n",
       "    </tr>\n",
       "    <tr>\n",
       "      <th>1496</th>\n",
       "      <td>2025-02-15</td>\n",
       "      <td>UFC on ESPN+ 109: Cannonier vs. Rodrigues</td>\n",
       "      <td>6</td>\n",
       "      <td>https://mmadecisions.com/event/1525/UFC-on-ESP...</td>\n",
       "    </tr>\n",
       "    <tr>\n",
       "      <th>1497</th>\n",
       "      <td>2025-02-09</td>\n",
       "      <td>UFC 312: du Plessis vs. Strickland 2</td>\n",
       "      <td>9</td>\n",
       "      <td>https://mmadecisions.com/event/1524/UFC-312-du...</td>\n",
       "    </tr>\n",
       "    <tr>\n",
       "      <th>1498</th>\n",
       "      <td>2025-02-01</td>\n",
       "      <td>UFC on ESPN+ 108: Adesanya vs. Imavov</td>\n",
       "      <td>7</td>\n",
       "      <td>https://mmadecisions.com/event/1523/UFC-on-ESP...</td>\n",
       "    </tr>\n",
       "  </tbody>\n",
       "</table>\n",
       "</div>"
      ],
      "text/plain": [
       "            Date                                      Event NumFights  \\\n",
       "1490  2025-03-15    UFC on ESPN+ 112: Vettori vs. Dolidze 2         4   \n",
       "1489  2025-03-15                  CW 185: Cage Warriors 185         5   \n",
       "1491  2025-03-14                          CW 184: Unplugged         3   \n",
       "1493  2025-03-08              UFC 313: Pereira vs. Ankalaev         6   \n",
       "1492  2025-03-08                  CW 183: Cage Warriors 183         8   \n",
       "1494  2025-03-01       UFC on ESPN+ 111: Kape vs. Almabayev         6   \n",
       "1495  2025-02-22          UFC on ESPN+ 110: Cejudo vs. Song         4   \n",
       "1496  2025-02-15  UFC on ESPN+ 109: Cannonier vs. Rodrigues         6   \n",
       "1497  2025-02-09       UFC 312: du Plessis vs. Strickland 2         9   \n",
       "1498  2025-02-01      UFC on ESPN+ 108: Adesanya vs. Imavov         7   \n",
       "\n",
       "                                                    url  \n",
       "1490  https://mmadecisions.com/event/1530/UFC-on-ESP...  \n",
       "1489  https://mmadecisions.com/event/1532/CW-185-Cag...  \n",
       "1491  https://mmadecisions.com/event/1531/CW-184-Unp...  \n",
       "1493  https://mmadecisions.com/event/1529/UFC-313-Pe...  \n",
       "1492  https://mmadecisions.com/event/1528/CW-183-Cag...  \n",
       "1494  https://mmadecisions.com/event/1527/UFC-on-ESP...  \n",
       "1495  https://mmadecisions.com/event/1526/UFC-on-ESP...  \n",
       "1496  https://mmadecisions.com/event/1525/UFC-on-ESP...  \n",
       "1497  https://mmadecisions.com/event/1524/UFC-312-du...  \n",
       "1498  https://mmadecisions.com/event/1523/UFC-on-ESP...  "
      ]
     },
     "execution_count": 11,
     "metadata": {},
     "output_type": "execute_result"
    }
   ],
   "source": [
    "all_event_data = []\n",
    "\n",
    "for url in urls_yearly_events:\n",
    "    response = requests.get(url)\n",
    "    soup = BeautifulSoup(response.text, 'html.parser')\n",
    "\n",
    "    decision_rows = soup.find_all('tr', class_='decision')\n",
    "\n",
    "    for row in decision_rows:\n",
    "        row_data = [cell.text.strip() for cell in row.find_all('td')]\n",
    "\n",
    "        # Find the <a> tag (if it exists) within the row\n",
    "        a_tag = row.find('a')\n",
    "\n",
    "        # Extract the href if found, otherwise set to None\n",
    "        href = a_tag['href'] if a_tag else None\n",
    "\n",
    "        # Append the href to the row data\n",
    "        row_data.append('https://mmadecisions.com/' + href)\n",
    "\n",
    "        all_event_data.append(row_data)\n",
    "\n",
    "# Create DataFrame with an extra column for the href\n",
    "df_event = pd.DataFrame(all_event_data, columns=['Date', 'Event', 'NumFights', 'url'])\n",
    "\n",
    "# Change date column to dat format\n",
    "df_event['Date'] = pd.to_datetime(df_event['Date']).dt.date\n",
    "\n",
    "# Sort descending by date\n",
    "df_event = df_event.sort_values(by='Date', ascending=False)\n",
    "\n",
    "df_event.head(10)"
   ]
  },
  {
   "cell_type": "code",
   "execution_count": null,
   "metadata": {},
   "outputs": [
    {
     "name": "stdout",
     "output_type": "stream",
     "text": [
      "            Date                                    Event  NumFights  \\\n",
      "0     2025-03-15  UFC on ESPN+ 112: Vettori vs. Dolidze 2          4   \n",
      "1     2025-03-15                CW 185: Cage Warriors 185          5   \n",
      "2     2025-03-14                        CW 184: Unplugged          3   \n",
      "3     2025-03-08            UFC 313: Pereira vs. Ankalaev          6   \n",
      "4     2025-03-08                CW 183: Cage Warriors 183          8   \n",
      "...          ...                                      ...        ...   \n",
      "1498  1996-05-17                UFC 9: Motor City Madness          1   \n",
      "1499  1996-02-16                 UFC 8: David vs. Goliath          1   \n",
      "1500  1995-12-16              UU 95: Ultimate Ultimate 95          3   \n",
      "1501  1995-09-08              UFC 7: The Brawl in Buffalo          1   \n",
      "1502  1995-04-07           UFC 5: The Return of the Beast          1   \n",
      "\n",
      "                                                    url  \n",
      "0     https://mmadecisions.com/event/1530/UFC-on-ESP...  \n",
      "1     https://mmadecisions.com/event/1532/CW-185-Cag...  \n",
      "2     https://mmadecisions.com/event/1531/CW-184-Unp...  \n",
      "3     https://mmadecisions.com/event/1529/UFC-313-Pe...  \n",
      "4     https://mmadecisions.com/event/1528/CW-183-Cag...  \n",
      "...                                                 ...  \n",
      "1498  https://mmadecisions.com/event/10/UFC-9-Motor-...  \n",
      "1499  https://mmadecisions.com/event/9/UFC-8-David-v...  \n",
      "1500  https://mmadecisions.com/event/8/UU-95-Ultimat...  \n",
      "1501  https://mmadecisions.com/event/7/UFC-7-The-Bra...  \n",
      "1502  https://mmadecisions.com/event/5/UFC-5-The-Ret...  \n",
      "\n",
      "[1503 rows x 4 columns]\n"
     ]
    }
   ],
   "source": [
    "# Save to MMA_Events csv\n",
    "df_event.to_csv('MMA_Events.csv', index=False)\n"
   ]
  },
  {
   "cell_type": "code",
   "execution_count": null,
   "metadata": {},
   "outputs": [],
   "source": [
    "all_fight_data = []\n",
    "\n",
    "for url in df_event['url']:\n",
    "  response = requests.get(url)\n",
    "  soup = BeautifulSoup(response.text, 'html.parser')\n",
    "\n",
    "  # Get event info\n",
    "  event_info_soup = soup.find_all('td', class_ = 'decision-top2')\n",
    "  current_event = []\n",
    "\n",
    "  for text in event_info_soup:\n",
    "      current_event.append(text.get_text(strip=True,separator='||| '))  # Add text from soup into a list as a single object with ||| as a delimiter\n",
    "\n",
    "\n",
    "  # Split items into different objects in the list\n",
    "  current_event = current_event[0].split('||| ')\n",
    "\n",
    "  for row in soup.find_all('td', class_='list2'):\n",
    "\n",
    "    # Find the <a> tag (if it exists) within the row\n",
    "    a_tag = row.find('a')\n",
    "\n",
    "    # Extract the href if found, otherwise set to None\n",
    "    href = ['https://mmadecisions.com/' + a_tag['href'] if a_tag else None]\n",
    "\n",
    "    href.extend(current_event)\n",
    "\n",
    "    all_fight_data.append(href)\n",
    "\n",
    "\n",
    "df_fights = pd.DataFrame(all_fight_data)\n",
    "df_fights.head(10)\n",
    "\n",
    "\n"
   ]
  },
  {
   "cell_type": "code",
   "execution_count": null,
   "metadata": {},
   "outputs": [],
   "source": []
  }
 ],
 "metadata": {
  "kernelspec": {
   "display_name": "Python 3",
   "language": "python",
   "name": "python3"
  },
  "language_info": {
   "codemirror_mode": {
    "name": "ipython",
    "version": 3
   },
   "file_extension": ".py",
   "mimetype": "text/x-python",
   "name": "python",
   "nbconvert_exporter": "python",
   "pygments_lexer": "ipython3",
   "version": "3.11.4"
  }
 },
 "nbformat": 4,
 "nbformat_minor": 2
}
