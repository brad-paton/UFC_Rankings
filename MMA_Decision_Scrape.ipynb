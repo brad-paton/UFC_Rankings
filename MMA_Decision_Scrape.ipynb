{
 "cells": [
  {
   "cell_type": "code",
   "execution_count": 4,
   "metadata": {},
   "outputs": [],
   "source": [
    "from datetime import datetime\n",
    "import requests\n",
    "import pandas as pd\n",
    "from bs4 import BeautifulSoup\n",
    "import UFC_Scrape_Library as LIB\n"
   ]
  },
  {
   "cell_type": "code",
   "execution_count": 5,
   "metadata": {},
   "outputs": [],
   "source": [
    "urls_yearly_events = []\n",
    "currentyear = datetime.now().year\n",
    "\n",
    "for year in range(1994, currentyear + 1):\n",
    "    newurl = 'https://mmadecisions.com/decisions-by-event/' + str(year) + '/'\n",
    "    urls_yearly_events.append(newurl)"
   ]
  },
  {
   "cell_type": "code",
   "execution_count": 6,
   "metadata": {},
   "outputs": [
    {
     "data": {
      "application/vnd.microsoft.datawrangler.viewer.v0+json": {
       "columns": [
        {
         "name": "index",
         "rawType": "int64",
         "type": "integer"
        },
        {
         "name": "Date",
         "rawType": "object",
         "type": "unknown"
        },
        {
         "name": "Event",
         "rawType": "object",
         "type": "string"
        },
        {
         "name": "NumFights",
         "rawType": "object",
         "type": "string"
        },
        {
         "name": "url",
         "rawType": "object",
         "type": "string"
        }
       ],
       "conversionMethod": "pd.DataFrame",
       "ref": "07bbf92a-1720-49ca-bc7c-48f101c60edf",
       "rows": [
        [
         "1489",
         "2025-04-19",
         "CW 187: Glasgow",
         "3",
         "https://mmadecisions.com/event/1541/CW-187-Glasgow"
        ],
        [
         "1490",
         "2025-04-18",
         "PFL 3: 2025 Season",
         "2",
         "https://mmadecisions.com/event/1540/PFL-3-2025-Season"
        ],
        [
         "1491",
         "2025-04-12",
         "UFC 314: Volkanovski vs. Lopes",
         "5",
         "https://mmadecisions.com/event/1538/UFC-314-Volkanovski-vs-Lopes"
        ],
        [
         "1492",
         "2025-04-11",
         "PFL 2: 2025 Season",
         "3",
         "https://mmadecisions.com/event/1539/PFL-2-2025-Season"
        ],
        [
         "1493",
         "2025-04-05",
         "UFC on ESPN 65: Emmett vs. Murphy",
         "8",
         "https://mmadecisions.com/event/1536/UFC-on-ESPN-65-Emmett-vs-Murphy"
        ],
        [
         "1494",
         "2025-04-03",
         "PFL 1: 2025 Season",
         "2",
         "https://mmadecisions.com/event/1537/PFL-1-2025-Season"
        ],
        [
         "1495",
         "2025-03-29",
         "UFC on ESPN 64: Moreno vs. Erceg",
         "7",
         "https://mmadecisions.com/event/1535/UFC-on-ESPN-64-Moreno-vs-Erceg"
        ],
        [
         "1496",
         "2025-03-22",
         "UFC on ESPN+ 113: Edwards vs. Brady",
         "9",
         "https://mmadecisions.com/event/1534/UFC-on-ESPN+-113-Edwards-vs-Brady"
        ],
        [
         "1497",
         "2025-03-21",
         "CW 186: Cage Warriors 186",
         "7",
         "https://mmadecisions.com/event/1533/CW-186-Cage-Warriors-186"
        ],
        [
         "1498",
         "2025-03-15",
         "CW 185: Cage Warriors 185",
         "5",
         "https://mmadecisions.com/event/1532/CW-185-Cage-Warriors-185"
        ]
       ],
       "shape": {
        "columns": 4,
        "rows": 10
       }
      },
      "text/html": [
       "<div>\n",
       "<style scoped>\n",
       "    .dataframe tbody tr th:only-of-type {\n",
       "        vertical-align: middle;\n",
       "    }\n",
       "\n",
       "    .dataframe tbody tr th {\n",
       "        vertical-align: top;\n",
       "    }\n",
       "\n",
       "    .dataframe thead th {\n",
       "        text-align: right;\n",
       "    }\n",
       "</style>\n",
       "<table border=\"1\" class=\"dataframe\">\n",
       "  <thead>\n",
       "    <tr style=\"text-align: right;\">\n",
       "      <th></th>\n",
       "      <th>Date</th>\n",
       "      <th>Event</th>\n",
       "      <th>NumFights</th>\n",
       "      <th>url</th>\n",
       "    </tr>\n",
       "  </thead>\n",
       "  <tbody>\n",
       "    <tr>\n",
       "      <th>1489</th>\n",
       "      <td>2025-04-19</td>\n",
       "      <td>CW 187: Glasgow</td>\n",
       "      <td>3</td>\n",
       "      <td>https://mmadecisions.com/event/1541/CW-187-Gla...</td>\n",
       "    </tr>\n",
       "    <tr>\n",
       "      <th>1490</th>\n",
       "      <td>2025-04-18</td>\n",
       "      <td>PFL 3: 2025 Season</td>\n",
       "      <td>2</td>\n",
       "      <td>https://mmadecisions.com/event/1540/PFL-3-2025...</td>\n",
       "    </tr>\n",
       "    <tr>\n",
       "      <th>1491</th>\n",
       "      <td>2025-04-12</td>\n",
       "      <td>UFC 314: Volkanovski vs. Lopes</td>\n",
       "      <td>5</td>\n",
       "      <td>https://mmadecisions.com/event/1538/UFC-314-Vo...</td>\n",
       "    </tr>\n",
       "    <tr>\n",
       "      <th>1492</th>\n",
       "      <td>2025-04-11</td>\n",
       "      <td>PFL 2: 2025 Season</td>\n",
       "      <td>3</td>\n",
       "      <td>https://mmadecisions.com/event/1539/PFL-2-2025...</td>\n",
       "    </tr>\n",
       "    <tr>\n",
       "      <th>1493</th>\n",
       "      <td>2025-04-05</td>\n",
       "      <td>UFC on ESPN 65: Emmett vs. Murphy</td>\n",
       "      <td>8</td>\n",
       "      <td>https://mmadecisions.com/event/1536/UFC-on-ESP...</td>\n",
       "    </tr>\n",
       "    <tr>\n",
       "      <th>1494</th>\n",
       "      <td>2025-04-03</td>\n",
       "      <td>PFL 1: 2025 Season</td>\n",
       "      <td>2</td>\n",
       "      <td>https://mmadecisions.com/event/1537/PFL-1-2025...</td>\n",
       "    </tr>\n",
       "    <tr>\n",
       "      <th>1495</th>\n",
       "      <td>2025-03-29</td>\n",
       "      <td>UFC on ESPN 64: Moreno vs. Erceg</td>\n",
       "      <td>7</td>\n",
       "      <td>https://mmadecisions.com/event/1535/UFC-on-ESP...</td>\n",
       "    </tr>\n",
       "    <tr>\n",
       "      <th>1496</th>\n",
       "      <td>2025-03-22</td>\n",
       "      <td>UFC on ESPN+ 113: Edwards vs. Brady</td>\n",
       "      <td>9</td>\n",
       "      <td>https://mmadecisions.com/event/1534/UFC-on-ESP...</td>\n",
       "    </tr>\n",
       "    <tr>\n",
       "      <th>1497</th>\n",
       "      <td>2025-03-21</td>\n",
       "      <td>CW 186: Cage Warriors 186</td>\n",
       "      <td>7</td>\n",
       "      <td>https://mmadecisions.com/event/1533/CW-186-Cag...</td>\n",
       "    </tr>\n",
       "    <tr>\n",
       "      <th>1498</th>\n",
       "      <td>2025-03-15</td>\n",
       "      <td>CW 185: Cage Warriors 185</td>\n",
       "      <td>5</td>\n",
       "      <td>https://mmadecisions.com/event/1532/CW-185-Cag...</td>\n",
       "    </tr>\n",
       "  </tbody>\n",
       "</table>\n",
       "</div>"
      ],
      "text/plain": [
       "            Date                                Event NumFights  \\\n",
       "1489  2025-04-19                      CW 187: Glasgow         3   \n",
       "1490  2025-04-18                   PFL 3: 2025 Season         2   \n",
       "1491  2025-04-12       UFC 314: Volkanovski vs. Lopes         5   \n",
       "1492  2025-04-11                   PFL 2: 2025 Season         3   \n",
       "1493  2025-04-05    UFC on ESPN 65: Emmett vs. Murphy         8   \n",
       "1494  2025-04-03                   PFL 1: 2025 Season         2   \n",
       "1495  2025-03-29     UFC on ESPN 64: Moreno vs. Erceg         7   \n",
       "1496  2025-03-22  UFC on ESPN+ 113: Edwards vs. Brady         9   \n",
       "1497  2025-03-21            CW 186: Cage Warriors 186         7   \n",
       "1498  2025-03-15            CW 185: Cage Warriors 185         5   \n",
       "\n",
       "                                                    url  \n",
       "1489  https://mmadecisions.com/event/1541/CW-187-Gla...  \n",
       "1490  https://mmadecisions.com/event/1540/PFL-3-2025...  \n",
       "1491  https://mmadecisions.com/event/1538/UFC-314-Vo...  \n",
       "1492  https://mmadecisions.com/event/1539/PFL-2-2025...  \n",
       "1493  https://mmadecisions.com/event/1536/UFC-on-ESP...  \n",
       "1494  https://mmadecisions.com/event/1537/PFL-1-2025...  \n",
       "1495  https://mmadecisions.com/event/1535/UFC-on-ESP...  \n",
       "1496  https://mmadecisions.com/event/1534/UFC-on-ESP...  \n",
       "1497  https://mmadecisions.com/event/1533/CW-186-Cag...  \n",
       "1498  https://mmadecisions.com/event/1532/CW-185-Cag...  "
      ]
     },
     "execution_count": 6,
     "metadata": {},
     "output_type": "execute_result"
    }
   ],
   "source": [
    "all_event_data = []\n",
    "\n",
    "for url in urls_yearly_events:\n",
    "    response = requests.get(url)\n",
    "    soup = BeautifulSoup(response.text, 'html.parser')\n",
    "\n",
    "    decision_rows = soup.find_all('tr', class_='decision')\n",
    "\n",
    "    for row in decision_rows:\n",
    "        row_data = [cell.text.strip() for cell in row.find_all('td')]\n",
    "\n",
    "        # Find the <a> tag (if it exists) within the row\n",
    "        a_tag = row.find('a')\n",
    "\n",
    "        # Extract the href if found, otherwise set to None\n",
    "        href = a_tag['href'] if a_tag else None\n",
    "\n",
    "        # Append the href to the row data\n",
    "        row_data.append('https://mmadecisions.com/' + href)\n",
    "\n",
    "        all_event_data.append(row_data)\n",
    "\n",
    "# Create DataFrame with an extra column for the href\n",
    "df_event = pd.DataFrame(all_event_data, columns=['Date', 'Event', 'NumFights', 'url'])\n",
    "\n",
    "# Change date column to dat format\n",
    "df_event['Date'] = pd.to_datetime(df_event['Date']).dt.date\n",
    "\n",
    "# Sort descending by date\n",
    "df_event = df_event.sort_values(by='Date', ascending=False)\n",
    "\n",
    "df_event.head(10)"
   ]
  },
  {
   "cell_type": "code",
   "execution_count": 7,
   "metadata": {},
   "outputs": [],
   "source": [
    "# Save to MMA_Events csv\n",
    "df_event.to_csv('MMA_Events.csv', index=False)\n"
   ]
  },
  {
   "cell_type": "code",
   "execution_count": 8,
   "metadata": {},
   "outputs": [
    {
     "data": {
      "application/vnd.microsoft.datawrangler.viewer.v0+json": {
       "columns": [
        {
         "name": "index",
         "rawType": "int64",
         "type": "integer"
        },
        {
         "name": "Event",
         "rawType": "object",
         "type": "string"
        },
        {
         "name": "Location",
         "rawType": "object",
         "type": "string"
        },
        {
         "name": "Venue",
         "rawType": "object",
         "type": "string"
        },
        {
         "name": "url",
         "rawType": "object",
         "type": "string"
        }
       ],
       "conversionMethod": "pd.DataFrame",
       "ref": "d824a6f0-faa5-41d8-8c95-45f9c098c113",
       "rows": [
        [
         "0",
         "CW 187: Glasgow",
         "Glasgow, Scotland",
         "Braehead Arena",
         "https://mmadecisions.com/decision/15372/Alexandros-Moumtzis-vs-Keir-Harvie\r\n"
        ],
        [
         "1",
         "CW 187: Glasgow",
         "Glasgow, Scotland",
         "Braehead Arena",
         "https://mmadecisions.com/decision/15371/Paull-McBain-vs-Bailey-Gilbert\r\n"
        ],
        [
         "2",
         "CW 187: Glasgow",
         "Glasgow, Scotland",
         "Braehead Arena",
         "https://mmadecisions.com/decision/15370/Redgie-Hingston-vs-Gary-Priestly\r\n"
        ],
        [
         "3",
         "PFL 3: 2025 Season",
         "Orlando, Florida, USA",
         "Universal Studios Florida",
         "https://mmadecisions.com/decision/15369/Joshua-Silveira-vs-Mike-Shipman\r\n"
        ],
        [
         "4",
         "PFL 3: 2025 Season",
         "Orlando, Florida, USA",
         "Universal Studios Florida",
         "https://mmadecisions.com/decision/15368/Aaron-Jeffery-vs-Murad-Ramazanov\r\n"
        ],
        [
         "5",
         "UFC 314: Volkanovski vs. Lopes",
         "Miami, Florida, USA",
         "Kaseya Center",
         "https://mmadecisions.com/decision/15364/Alexander-Volkanovski-vs-Diego-Lopes\r\n"
        ],
        [
         "6",
         "UFC 314: Volkanovski vs. Lopes",
         "Miami, Florida, USA",
         "Kaseya Center",
         "https://mmadecisions.com/decision/15362/Yair-Rodriguez-vs-Patricio-Freire\r\n"
        ],
        [
         "7",
         "UFC 314: Volkanovski vs. Lopes",
         "Miami, Florida, USA",
         "Kaseya Center",
         "https://mmadecisions.com/decision/15358/Virna-Jandiroba-vs-Yan-Xiaonan\r\n"
        ],
        [
         "8",
         "UFC 314: Volkanovski vs. Lopes",
         "Miami, Florida, USA",
         "Kaseya Center",
         "https://mmadecisions.com/decision/15357/Chase-Hooper-vs-Jim-Miller\r\n"
        ],
        [
         "9",
         "UFC 314: Volkanovski vs. Lopes",
         "Miami, Florida, USA",
         "Kaseya Center",
         "https://mmadecisions.com/decision/15354/Su-Mudaerji-vs-Mitch-Raposo\r\n"
        ]
       ],
       "shape": {
        "columns": 4,
        "rows": 10
       }
      },
      "text/html": [
       "<div>\n",
       "<style scoped>\n",
       "    .dataframe tbody tr th:only-of-type {\n",
       "        vertical-align: middle;\n",
       "    }\n",
       "\n",
       "    .dataframe tbody tr th {\n",
       "        vertical-align: top;\n",
       "    }\n",
       "\n",
       "    .dataframe thead th {\n",
       "        text-align: right;\n",
       "    }\n",
       "</style>\n",
       "<table border=\"1\" class=\"dataframe\">\n",
       "  <thead>\n",
       "    <tr style=\"text-align: right;\">\n",
       "      <th></th>\n",
       "      <th>Event</th>\n",
       "      <th>Location</th>\n",
       "      <th>Venue</th>\n",
       "      <th>url</th>\n",
       "    </tr>\n",
       "  </thead>\n",
       "  <tbody>\n",
       "    <tr>\n",
       "      <th>0</th>\n",
       "      <td>CW 187: Glasgow</td>\n",
       "      <td>Glasgow, Scotland</td>\n",
       "      <td>Braehead Arena</td>\n",
       "      <td>https://mmadecisions.com/decision/15372/Alexan...</td>\n",
       "    </tr>\n",
       "    <tr>\n",
       "      <th>1</th>\n",
       "      <td>CW 187: Glasgow</td>\n",
       "      <td>Glasgow, Scotland</td>\n",
       "      <td>Braehead Arena</td>\n",
       "      <td>https://mmadecisions.com/decision/15371/Paull-...</td>\n",
       "    </tr>\n",
       "    <tr>\n",
       "      <th>2</th>\n",
       "      <td>CW 187: Glasgow</td>\n",
       "      <td>Glasgow, Scotland</td>\n",
       "      <td>Braehead Arena</td>\n",
       "      <td>https://mmadecisions.com/decision/15370/Redgie...</td>\n",
       "    </tr>\n",
       "    <tr>\n",
       "      <th>3</th>\n",
       "      <td>PFL 3: 2025 Season</td>\n",
       "      <td>Orlando, Florida, USA</td>\n",
       "      <td>Universal Studios Florida</td>\n",
       "      <td>https://mmadecisions.com/decision/15369/Joshua...</td>\n",
       "    </tr>\n",
       "    <tr>\n",
       "      <th>4</th>\n",
       "      <td>PFL 3: 2025 Season</td>\n",
       "      <td>Orlando, Florida, USA</td>\n",
       "      <td>Universal Studios Florida</td>\n",
       "      <td>https://mmadecisions.com/decision/15368/Aaron-...</td>\n",
       "    </tr>\n",
       "    <tr>\n",
       "      <th>5</th>\n",
       "      <td>UFC 314: Volkanovski vs. Lopes</td>\n",
       "      <td>Miami, Florida, USA</td>\n",
       "      <td>Kaseya Center</td>\n",
       "      <td>https://mmadecisions.com/decision/15364/Alexan...</td>\n",
       "    </tr>\n",
       "    <tr>\n",
       "      <th>6</th>\n",
       "      <td>UFC 314: Volkanovski vs. Lopes</td>\n",
       "      <td>Miami, Florida, USA</td>\n",
       "      <td>Kaseya Center</td>\n",
       "      <td>https://mmadecisions.com/decision/15362/Yair-R...</td>\n",
       "    </tr>\n",
       "    <tr>\n",
       "      <th>7</th>\n",
       "      <td>UFC 314: Volkanovski vs. Lopes</td>\n",
       "      <td>Miami, Florida, USA</td>\n",
       "      <td>Kaseya Center</td>\n",
       "      <td>https://mmadecisions.com/decision/15358/Virna-...</td>\n",
       "    </tr>\n",
       "    <tr>\n",
       "      <th>8</th>\n",
       "      <td>UFC 314: Volkanovski vs. Lopes</td>\n",
       "      <td>Miami, Florida, USA</td>\n",
       "      <td>Kaseya Center</td>\n",
       "      <td>https://mmadecisions.com/decision/15357/Chase-...</td>\n",
       "    </tr>\n",
       "    <tr>\n",
       "      <th>9</th>\n",
       "      <td>UFC 314: Volkanovski vs. Lopes</td>\n",
       "      <td>Miami, Florida, USA</td>\n",
       "      <td>Kaseya Center</td>\n",
       "      <td>https://mmadecisions.com/decision/15354/Su-Mud...</td>\n",
       "    </tr>\n",
       "  </tbody>\n",
       "</table>\n",
       "</div>"
      ],
      "text/plain": [
       "                            Event               Location  \\\n",
       "0                 CW 187: Glasgow      Glasgow, Scotland   \n",
       "1                 CW 187: Glasgow      Glasgow, Scotland   \n",
       "2                 CW 187: Glasgow      Glasgow, Scotland   \n",
       "3              PFL 3: 2025 Season  Orlando, Florida, USA   \n",
       "4              PFL 3: 2025 Season  Orlando, Florida, USA   \n",
       "5  UFC 314: Volkanovski vs. Lopes    Miami, Florida, USA   \n",
       "6  UFC 314: Volkanovski vs. Lopes    Miami, Florida, USA   \n",
       "7  UFC 314: Volkanovski vs. Lopes    Miami, Florida, USA   \n",
       "8  UFC 314: Volkanovski vs. Lopes    Miami, Florida, USA   \n",
       "9  UFC 314: Volkanovski vs. Lopes    Miami, Florida, USA   \n",
       "\n",
       "                       Venue  \\\n",
       "0             Braehead Arena   \n",
       "1             Braehead Arena   \n",
       "2             Braehead Arena   \n",
       "3  Universal Studios Florida   \n",
       "4  Universal Studios Florida   \n",
       "5              Kaseya Center   \n",
       "6              Kaseya Center   \n",
       "7              Kaseya Center   \n",
       "8              Kaseya Center   \n",
       "9              Kaseya Center   \n",
       "\n",
       "                                                 url  \n",
       "0  https://mmadecisions.com/decision/15372/Alexan...  \n",
       "1  https://mmadecisions.com/decision/15371/Paull-...  \n",
       "2  https://mmadecisions.com/decision/15370/Redgie...  \n",
       "3  https://mmadecisions.com/decision/15369/Joshua...  \n",
       "4  https://mmadecisions.com/decision/15368/Aaron-...  \n",
       "5  https://mmadecisions.com/decision/15364/Alexan...  \n",
       "6  https://mmadecisions.com/decision/15362/Yair-R...  \n",
       "7  https://mmadecisions.com/decision/15358/Virna-...  \n",
       "8  https://mmadecisions.com/decision/15357/Chase-...  \n",
       "9  https://mmadecisions.com/decision/15354/Su-Mud...  "
      ]
     },
     "execution_count": 8,
     "metadata": {},
     "output_type": "execute_result"
    }
   ],
   "source": [
    "all_fight_data = []\n",
    "\n",
    "for url in df_event['url']:\n",
    "  response = requests.get(url)\n",
    "  soup = BeautifulSoup(response.text, 'html.parser')\n",
    "\n",
    "  # Get event info\n",
    "  event_info_soup = soup.find_all('td', class_ = 'decision-top2')\n",
    "  current_event = []\n",
    "\n",
    "  for text in event_info_soup:\n",
    "      current_event.append(text.get_text(strip=True,separator='||| '))  # Add text from soup into a list as a single object with ||| as a delimiter\n",
    "\n",
    "\n",
    "  # Split items into different objects in the list\n",
    "  current_event = current_event[0].split('||| ')\n",
    "\n",
    "  for row in soup.find_all('td', class_='list2'):\n",
    "\n",
    "    # Find the <a> tag (if it exists) within the row\n",
    "    a_tag = row.find('a')\n",
    "\n",
    "    # Extract the href if found, otherwise set to None\n",
    "    href = ['https://mmadecisions.com/' + a_tag['href'] if a_tag else None]\n",
    "\n",
    "    href.extend(current_event)\n",
    "\n",
    "    all_fight_data.append(href)\n",
    "\n",
    "# Create dataframe\n",
    "df_fights = pd.DataFrame(all_fight_data,columns=['url', 'Event', 'Venue', 'Location'])\n",
    "\n",
    "# Reorder columns\n",
    "df_fights = df_fights[['Event', 'Location', 'Venue', 'url']]\n",
    "df_fights.head(10)\n"
   ]
  },
  {
   "cell_type": "code",
   "execution_count": 9,
   "metadata": {},
   "outputs": [],
   "source": [
    "# Sort descending by date\n",
    "df_event = df_event.sort_values(by='url', ascending=False)\n",
    "\n",
    "# Save to MMA_Events csv\n",
    "df_fights.to_csv('MMA_Decisions.csv', index=False)"
   ]
  },
  {
   "cell_type": "code",
   "execution_count": 11,
   "metadata": {},
   "outputs": [
    {
     "ename": "KeyError",
     "evalue": "1",
     "output_type": "error",
     "traceback": [
      "\u001b[31m---------------------------------------------------------------------------\u001b[39m",
      "\u001b[31mValueError\u001b[39m                                Traceback (most recent call last)",
      "\u001b[36mFile \u001b[39m\u001b[32m~/.local/lib/python3.12/site-packages/pandas/core/indexes/range.py:413\u001b[39m, in \u001b[36mRangeIndex.get_loc\u001b[39m\u001b[34m(self, key)\u001b[39m\n\u001b[32m    412\u001b[39m \u001b[38;5;28;01mtry\u001b[39;00m:\n\u001b[32m--> \u001b[39m\u001b[32m413\u001b[39m     \u001b[38;5;28;01mreturn\u001b[39;00m \u001b[38;5;28;43mself\u001b[39;49m\u001b[43m.\u001b[49m\u001b[43m_range\u001b[49m\u001b[43m.\u001b[49m\u001b[43mindex\u001b[49m\u001b[43m(\u001b[49m\u001b[43mnew_key\u001b[49m\u001b[43m)\u001b[49m\n\u001b[32m    414\u001b[39m \u001b[38;5;28;01mexcept\u001b[39;00m \u001b[38;5;167;01mValueError\u001b[39;00m \u001b[38;5;28;01mas\u001b[39;00m err:\n",
      "\u001b[31mValueError\u001b[39m: 1 is not in range",
      "\nThe above exception was the direct cause of the following exception:\n",
      "\u001b[31mKeyError\u001b[39m                                  Traceback (most recent call last)",
      "\u001b[36mCell\u001b[39m\u001b[36m \u001b[39m\u001b[32mIn[11]\u001b[39m\u001b[32m, line 5\u001b[39m\n\u001b[32m      3\u001b[39m \u001b[38;5;28;01mfor\u001b[39;00m index, row \u001b[38;5;129;01min\u001b[39;00m df_fights.iterrows():\n\u001b[32m      4\u001b[39m     url_scorecard = row[\u001b[33m'\u001b[39m\u001b[33murl\u001b[39m\u001b[33m'\u001b[39m]\n\u001b[32m----> \u001b[39m\u001b[32m5\u001b[39m     fight_df = \u001b[43mLIB\u001b[49m\u001b[43m.\u001b[49m\u001b[43mscorecard_scrape\u001b[49m\u001b[43m(\u001b[49m\u001b[43murl\u001b[49m\u001b[43m)\u001b[49m\n\u001b[32m      6\u001b[39m     list_scorecard.append(fight_df)\n\u001b[32m      8\u001b[39m \u001b[38;5;66;03m# Concatenate all the DataFrames into one\u001b[39;00m\n",
      "\u001b[36mFile \u001b[39m\u001b[32m/workspaces/UFC_Rankings/UFC_Scrape_Library.py:35\u001b[39m, in \u001b[36mscorecard_scrape\u001b[39m\u001b[34m(url)\u001b[39m\n\u001b[32m     32\u001b[39m df = pd.DataFrame(data)\n\u001b[32m     33\u001b[39m df = df[[\u001b[32m1\u001b[39m, \u001b[32m2\u001b[39m, \u001b[32m3\u001b[39m]]\n\u001b[32m---> \u001b[39m\u001b[32m35\u001b[39m event = \u001b[43mdf\u001b[49m\u001b[43m[\u001b[49m\u001b[32;43m2\u001b[39;49m\u001b[43m]\u001b[49m\u001b[43m[\u001b[49m\u001b[32;43m1\u001b[39;49m\u001b[43m]\u001b[49m\n\u001b[32m     36\u001b[39m fight = url.rsplit(\u001b[33m'\u001b[39m\u001b[33m/\u001b[39m\u001b[33m'\u001b[39m, \u001b[32m1\u001b[39m)[-\u001b[32m1\u001b[39m].replace(\u001b[33m'\u001b[39m\u001b[33m-\u001b[39m\u001b[33m'\u001b[39m, \u001b[33m'\u001b[39m\u001b[33m \u001b[39m\u001b[33m'\u001b[39m)\n\u001b[32m     37\u001b[39m \u001b[38;5;28mround\u001b[39m = df[\u001b[32m1\u001b[39m][\u001b[32m1\u001b[39m]\n",
      "\u001b[36mFile \u001b[39m\u001b[32m~/.local/lib/python3.12/site-packages/pandas/core/series.py:1121\u001b[39m, in \u001b[36mSeries.__getitem__\u001b[39m\u001b[34m(self, key)\u001b[39m\n\u001b[32m   1118\u001b[39m     \u001b[38;5;28;01mreturn\u001b[39;00m \u001b[38;5;28mself\u001b[39m._values[key]\n\u001b[32m   1120\u001b[39m \u001b[38;5;28;01melif\u001b[39;00m key_is_scalar:\n\u001b[32m-> \u001b[39m\u001b[32m1121\u001b[39m     \u001b[38;5;28;01mreturn\u001b[39;00m \u001b[38;5;28;43mself\u001b[39;49m\u001b[43m.\u001b[49m\u001b[43m_get_value\u001b[49m\u001b[43m(\u001b[49m\u001b[43mkey\u001b[49m\u001b[43m)\u001b[49m\n\u001b[32m   1123\u001b[39m \u001b[38;5;66;03m# Convert generator to list before going through hashable part\u001b[39;00m\n\u001b[32m   1124\u001b[39m \u001b[38;5;66;03m# (We will iterate through the generator there to check for slices)\u001b[39;00m\n\u001b[32m   1125\u001b[39m \u001b[38;5;28;01mif\u001b[39;00m is_iterator(key):\n",
      "\u001b[36mFile \u001b[39m\u001b[32m~/.local/lib/python3.12/site-packages/pandas/core/series.py:1237\u001b[39m, in \u001b[36mSeries._get_value\u001b[39m\u001b[34m(self, label, takeable)\u001b[39m\n\u001b[32m   1234\u001b[39m     \u001b[38;5;28;01mreturn\u001b[39;00m \u001b[38;5;28mself\u001b[39m._values[label]\n\u001b[32m   1236\u001b[39m \u001b[38;5;66;03m# Similar to Index.get_value, but we do not fall back to positional\u001b[39;00m\n\u001b[32m-> \u001b[39m\u001b[32m1237\u001b[39m loc = \u001b[38;5;28;43mself\u001b[39;49m\u001b[43m.\u001b[49m\u001b[43mindex\u001b[49m\u001b[43m.\u001b[49m\u001b[43mget_loc\u001b[49m\u001b[43m(\u001b[49m\u001b[43mlabel\u001b[49m\u001b[43m)\u001b[49m\n\u001b[32m   1239\u001b[39m \u001b[38;5;28;01mif\u001b[39;00m is_integer(loc):\n\u001b[32m   1240\u001b[39m     \u001b[38;5;28;01mreturn\u001b[39;00m \u001b[38;5;28mself\u001b[39m._values[loc]\n",
      "\u001b[36mFile \u001b[39m\u001b[32m~/.local/lib/python3.12/site-packages/pandas/core/indexes/range.py:415\u001b[39m, in \u001b[36mRangeIndex.get_loc\u001b[39m\u001b[34m(self, key)\u001b[39m\n\u001b[32m    413\u001b[39m         \u001b[38;5;28;01mreturn\u001b[39;00m \u001b[38;5;28mself\u001b[39m._range.index(new_key)\n\u001b[32m    414\u001b[39m     \u001b[38;5;28;01mexcept\u001b[39;00m \u001b[38;5;167;01mValueError\u001b[39;00m \u001b[38;5;28;01mas\u001b[39;00m err:\n\u001b[32m--> \u001b[39m\u001b[32m415\u001b[39m         \u001b[38;5;28;01mraise\u001b[39;00m \u001b[38;5;167;01mKeyError\u001b[39;00m(key) \u001b[38;5;28;01mfrom\u001b[39;00m\u001b[38;5;250m \u001b[39m\u001b[34;01merr\u001b[39;00m\n\u001b[32m    416\u001b[39m \u001b[38;5;28;01mif\u001b[39;00m \u001b[38;5;28misinstance\u001b[39m(key, Hashable):\n\u001b[32m    417\u001b[39m     \u001b[38;5;28;01mraise\u001b[39;00m \u001b[38;5;167;01mKeyError\u001b[39;00m(key)\n",
      "\u001b[31mKeyError\u001b[39m: 1"
     ]
    }
   ],
   "source": [
    "list_scorecard = []\n",
    "\n",
    "for index, row in df_fights.iterrows():\n",
    "    url_scorecard = row['url']\n",
    "    fight_df = LIB.scorecard_scrape(url)\n",
    "    list_scorecard.append(fight_df)\n",
    "\n",
    "# Concatenate all the DataFrames into one\n",
    "df_scorecards = pd.concat(list_scorecard, ignore_index=True)"
   ]
  }
 ],
 "metadata": {
  "kernelspec": {
   "display_name": "Python 3",
   "language": "python",
   "name": "python3"
  },
  "language_info": {
   "codemirror_mode": {
    "name": "ipython",
    "version": 3
   },
   "file_extension": ".py",
   "mimetype": "text/x-python",
   "name": "python",
   "nbconvert_exporter": "python",
   "pygments_lexer": "ipython3",
   "version": "3.12.1"
  }
 },
 "nbformat": 4,
 "nbformat_minor": 2
}
