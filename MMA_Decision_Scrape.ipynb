{
 "cells": [
  {
   "cell_type": "code",
   "execution_count": 1,
   "metadata": {},
   "outputs": [],
   "source": [
    "from datetime import datetime\n",
    "import requests\n",
    "import pandas as pd\n",
    "from bs4 import BeautifulSoup\n",
    "import UFC_Scrape_Library as LIB\n"
   ]
  },
  {
   "cell_type": "code",
   "execution_count": 2,
   "metadata": {},
   "outputs": [],
   "source": [
    "urls_yearly_events = []\n",
    "currentyear = datetime.now().year\n",
    "\n",
    "for year in range(1994, currentyear + 1):\n",
    "    newurl = 'https://mmadecisions.com/decisions-by-event/' + str(year) + '/'\n",
    "    urls_yearly_events.append(newurl)"
   ]
  },
  {
   "cell_type": "code",
   "execution_count": 3,
   "metadata": {},
   "outputs": [
    {
     "data": {
      "application/vnd.microsoft.datawrangler.viewer.v0+json": {
       "columns": [
        {
         "name": "index",
         "rawType": "int64",
         "type": "integer"
        },
        {
         "name": "Date",
         "rawType": "object",
         "type": "unknown"
        },
        {
         "name": "Event",
         "rawType": "object",
         "type": "string"
        },
        {
         "name": "NumFights",
         "rawType": "object",
         "type": "string"
        },
        {
         "name": "url",
         "rawType": "object",
         "type": "string"
        }
       ],
       "conversionMethod": "pd.DataFrame",
       "ref": "c349a2d9-d446-42d3-a69f-64afe99c13f1",
       "rows": [
        [
         "1489",
         "2025-04-26",
         "CW 188: Cage Warriors 188",
         "8",
         "https://mmadecisions.com/event/1542/CW-188-Cage-Warriors-188"
        ],
        [
         "1490",
         "2025-04-26",
         "UFC on ESPN 66: Machado Garry vs. Prates",
         "4",
         "https://mmadecisions.com/event/1543/UFC-on-ESPN-66-Machado-Garry-vs-Prates"
        ],
        [
         "1491",
         "2025-04-19",
         "CW 187: Glasgow",
         "3",
         "https://mmadecisions.com/event/1541/CW-187-Glasgow"
        ],
        [
         "1492",
         "2025-04-18",
         "PFL 3: 2025 Season",
         "2",
         "https://mmadecisions.com/event/1540/PFL-3-2025-Season"
        ],
        [
         "1493",
         "2025-04-12",
         "UFC 314: Volkanovski vs. Lopes",
         "5",
         "https://mmadecisions.com/event/1538/UFC-314-Volkanovski-vs-Lopes"
        ],
        [
         "1494",
         "2025-04-11",
         "PFL 2: 2025 Season",
         "3",
         "https://mmadecisions.com/event/1539/PFL-2-2025-Season"
        ],
        [
         "1495",
         "2025-04-05",
         "UFC on ESPN 65: Emmett vs. Murphy",
         "8",
         "https://mmadecisions.com/event/1536/UFC-on-ESPN-65-Emmett-vs-Murphy"
        ],
        [
         "1496",
         "2025-04-03",
         "PFL 1: 2025 Season",
         "2",
         "https://mmadecisions.com/event/1537/PFL-1-2025-Season"
        ],
        [
         "1497",
         "2025-03-29",
         "UFC on ESPN 64: Moreno vs. Erceg",
         "7",
         "https://mmadecisions.com/event/1535/UFC-on-ESPN-64-Moreno-vs-Erceg"
        ],
        [
         "1498",
         "2025-03-22",
         "UFC on ESPN+ 113: Edwards vs. Brady",
         "9",
         "https://mmadecisions.com/event/1534/UFC-on-ESPN+-113-Edwards-vs-Brady"
        ]
       ],
       "shape": {
        "columns": 4,
        "rows": 10
       }
      },
      "text/html": [
       "<div>\n",
       "<style scoped>\n",
       "    .dataframe tbody tr th:only-of-type {\n",
       "        vertical-align: middle;\n",
       "    }\n",
       "\n",
       "    .dataframe tbody tr th {\n",
       "        vertical-align: top;\n",
       "    }\n",
       "\n",
       "    .dataframe thead th {\n",
       "        text-align: right;\n",
       "    }\n",
       "</style>\n",
       "<table border=\"1\" class=\"dataframe\">\n",
       "  <thead>\n",
       "    <tr style=\"text-align: right;\">\n",
       "      <th></th>\n",
       "      <th>Date</th>\n",
       "      <th>Event</th>\n",
       "      <th>NumFights</th>\n",
       "      <th>url</th>\n",
       "    </tr>\n",
       "  </thead>\n",
       "  <tbody>\n",
       "    <tr>\n",
       "      <th>1489</th>\n",
       "      <td>2025-04-26</td>\n",
       "      <td>CW 188: Cage Warriors 188</td>\n",
       "      <td>8</td>\n",
       "      <td>https://mmadecisions.com/event/1542/CW-188-Cag...</td>\n",
       "    </tr>\n",
       "    <tr>\n",
       "      <th>1490</th>\n",
       "      <td>2025-04-26</td>\n",
       "      <td>UFC on ESPN 66: Machado Garry vs. Prates</td>\n",
       "      <td>4</td>\n",
       "      <td>https://mmadecisions.com/event/1543/UFC-on-ESP...</td>\n",
       "    </tr>\n",
       "    <tr>\n",
       "      <th>1491</th>\n",
       "      <td>2025-04-19</td>\n",
       "      <td>CW 187: Glasgow</td>\n",
       "      <td>3</td>\n",
       "      <td>https://mmadecisions.com/event/1541/CW-187-Gla...</td>\n",
       "    </tr>\n",
       "    <tr>\n",
       "      <th>1492</th>\n",
       "      <td>2025-04-18</td>\n",
       "      <td>PFL 3: 2025 Season</td>\n",
       "      <td>2</td>\n",
       "      <td>https://mmadecisions.com/event/1540/PFL-3-2025...</td>\n",
       "    </tr>\n",
       "    <tr>\n",
       "      <th>1493</th>\n",
       "      <td>2025-04-12</td>\n",
       "      <td>UFC 314: Volkanovski vs. Lopes</td>\n",
       "      <td>5</td>\n",
       "      <td>https://mmadecisions.com/event/1538/UFC-314-Vo...</td>\n",
       "    </tr>\n",
       "    <tr>\n",
       "      <th>1494</th>\n",
       "      <td>2025-04-11</td>\n",
       "      <td>PFL 2: 2025 Season</td>\n",
       "      <td>3</td>\n",
       "      <td>https://mmadecisions.com/event/1539/PFL-2-2025...</td>\n",
       "    </tr>\n",
       "    <tr>\n",
       "      <th>1495</th>\n",
       "      <td>2025-04-05</td>\n",
       "      <td>UFC on ESPN 65: Emmett vs. Murphy</td>\n",
       "      <td>8</td>\n",
       "      <td>https://mmadecisions.com/event/1536/UFC-on-ESP...</td>\n",
       "    </tr>\n",
       "    <tr>\n",
       "      <th>1496</th>\n",
       "      <td>2025-04-03</td>\n",
       "      <td>PFL 1: 2025 Season</td>\n",
       "      <td>2</td>\n",
       "      <td>https://mmadecisions.com/event/1537/PFL-1-2025...</td>\n",
       "    </tr>\n",
       "    <tr>\n",
       "      <th>1497</th>\n",
       "      <td>2025-03-29</td>\n",
       "      <td>UFC on ESPN 64: Moreno vs. Erceg</td>\n",
       "      <td>7</td>\n",
       "      <td>https://mmadecisions.com/event/1535/UFC-on-ESP...</td>\n",
       "    </tr>\n",
       "    <tr>\n",
       "      <th>1498</th>\n",
       "      <td>2025-03-22</td>\n",
       "      <td>UFC on ESPN+ 113: Edwards vs. Brady</td>\n",
       "      <td>9</td>\n",
       "      <td>https://mmadecisions.com/event/1534/UFC-on-ESP...</td>\n",
       "    </tr>\n",
       "  </tbody>\n",
       "</table>\n",
       "</div>"
      ],
      "text/plain": [
       "            Date                                     Event NumFights  \\\n",
       "1489  2025-04-26                 CW 188: Cage Warriors 188         8   \n",
       "1490  2025-04-26  UFC on ESPN 66: Machado Garry vs. Prates         4   \n",
       "1491  2025-04-19                           CW 187: Glasgow         3   \n",
       "1492  2025-04-18                        PFL 3: 2025 Season         2   \n",
       "1493  2025-04-12            UFC 314: Volkanovski vs. Lopes         5   \n",
       "1494  2025-04-11                        PFL 2: 2025 Season         3   \n",
       "1495  2025-04-05         UFC on ESPN 65: Emmett vs. Murphy         8   \n",
       "1496  2025-04-03                        PFL 1: 2025 Season         2   \n",
       "1497  2025-03-29          UFC on ESPN 64: Moreno vs. Erceg         7   \n",
       "1498  2025-03-22       UFC on ESPN+ 113: Edwards vs. Brady         9   \n",
       "\n",
       "                                                    url  \n",
       "1489  https://mmadecisions.com/event/1542/CW-188-Cag...  \n",
       "1490  https://mmadecisions.com/event/1543/UFC-on-ESP...  \n",
       "1491  https://mmadecisions.com/event/1541/CW-187-Gla...  \n",
       "1492  https://mmadecisions.com/event/1540/PFL-3-2025...  \n",
       "1493  https://mmadecisions.com/event/1538/UFC-314-Vo...  \n",
       "1494  https://mmadecisions.com/event/1539/PFL-2-2025...  \n",
       "1495  https://mmadecisions.com/event/1536/UFC-on-ESP...  \n",
       "1496  https://mmadecisions.com/event/1537/PFL-1-2025...  \n",
       "1497  https://mmadecisions.com/event/1535/UFC-on-ESP...  \n",
       "1498  https://mmadecisions.com/event/1534/UFC-on-ESP...  "
      ]
     },
     "execution_count": 3,
     "metadata": {},
     "output_type": "execute_result"
    }
   ],
   "source": [
    "all_event_data = []\n",
    "\n",
    "for url in urls_yearly_events:\n",
    "    response = requests.get(url)\n",
    "    soup = BeautifulSoup(response.text, 'html.parser')\n",
    "\n",
    "    decision_rows = soup.find_all('tr', class_='decision')\n",
    "\n",
    "    for row in decision_rows:\n",
    "        row_data = [cell.text.strip() for cell in row.find_all('td')]\n",
    "\n",
    "        # Find the <a> tag (if it exists) within the row\n",
    "        a_tag = row.find('a')\n",
    "\n",
    "        # Extract the href if found, otherwise set to None\n",
    "        href = a_tag['href'] if a_tag else None\n",
    "\n",
    "        # Append the href to the row data\n",
    "        row_data.append('https://mmadecisions.com/' + href)\n",
    "\n",
    "        all_event_data.append(row_data)\n",
    "\n",
    "# Create DataFrame with an extra column for the href\n",
    "df_event = pd.DataFrame(all_event_data, columns=['Date', 'Event', 'NumFights', 'url'])\n",
    "\n",
    "# Change date column to dat format\n",
    "df_event['Date'] = pd.to_datetime(df_event['Date']).dt.date\n",
    "\n",
    "# Sort descending by date\n",
    "df_event = df_event.sort_values(by='Date', ascending=False)\n",
    "\n",
    "df_event.head(10)"
   ]
  },
  {
   "cell_type": "code",
   "execution_count": 4,
   "metadata": {},
   "outputs": [],
   "source": [
    "# Save to MMA_Events csv\n",
    "df_event.to_csv('MMA_Events.csv', index=False)"
   ]
  },
  {
   "cell_type": "code",
   "execution_count": 5,
   "metadata": {},
   "outputs": [
    {
     "data": {
      "application/vnd.microsoft.datawrangler.viewer.v0+json": {
       "columns": [
        {
         "name": "index",
         "rawType": "int64",
         "type": "integer"
        },
        {
         "name": "Event",
         "rawType": "object",
         "type": "string"
        },
        {
         "name": "Location",
         "rawType": "object",
         "type": "string"
        },
        {
         "name": "Venue",
         "rawType": "object",
         "type": "string"
        },
        {
         "name": "url",
         "rawType": "object",
         "type": "string"
        }
       ],
       "conversionMethod": "pd.DataFrame",
       "ref": "0959320d-6eb0-4fdb-b73e-8087f478dc80",
       "rows": [
        [
         "0",
         "CW 188: Cage Warriors 188",
         "Dublin, Ireland",
         "The RDS",
         "https://mmadecisions.com/decision/15380/Marcus-Vinicius-Ferreira-vs-Ger-Harris"
        ],
        [
         "1",
         "CW 188: Cage Warriors 188",
         "Dublin, Ireland",
         "The RDS",
         "https://mmadecisions.com/decision/15379/Adam-Darby-vs-Tomasz-Langowski"
        ],
        [
         "2",
         "CW 188: Cage Warriors 188",
         "Dublin, Ireland",
         "The RDS",
         "https://mmadecisions.com/decision/15378/Conor-McCarthy-vs-Josh-Onwordi"
        ],
        [
         "3",
         "CW 188: Cage Warriors 188",
         "Dublin, Ireland",
         "The RDS",
         "https://mmadecisions.com/decision/15377/Alexander-OSullivan-vs-Daire-Toman"
        ],
        [
         "4",
         "CW 188: Cage Warriors 188",
         "Dublin, Ireland",
         "The RDS",
         "https://mmadecisions.com/decision/15376/Scott-Harvey-vs-Leon-Armes"
        ],
        [
         "5",
         "CW 188: Cage Warriors 188",
         "Dublin, Ireland",
         "The RDS",
         "https://mmadecisions.com/decision/15375/Ciaran-Brady-vs-Giovanni-Fernandez"
        ],
        [
         "6",
         "CW 188: Cage Warriors 188",
         "Dublin, Ireland",
         "The RDS",
         "https://mmadecisions.com/decision/15374/Matthew-Elliott-vs-Kenny-Mokhonoana"
        ],
        [
         "7",
         "CW 188: Cage Warriors 188",
         "Dublin, Ireland",
         "The RDS",
         "https://mmadecisions.com/decision/15373/Jamie-Abbott-Bissett-vs-Charlie-Falco"
        ],
        [
         "8",
         "UFC on ESPN 66: Machado Garry vs. Prates",
         "Kansas City, Missouri, USA",
         "T-Mobile Center",
         "https://mmadecisions.com/decision/15388/Matt-Schnell-vs-Jimmy-Flick"
        ],
        [
         "9",
         "UFC on ESPN 66: Machado Garry vs. Prates",
         "Kansas City, Missouri, USA",
         "T-Mobile Center",
         "https://mmadecisions.com/decision/15387/Evan-Elder-vs-Gauge-Young"
        ]
       ],
       "shape": {
        "columns": 4,
        "rows": 10
       }
      },
      "text/html": [
       "<div>\n",
       "<style scoped>\n",
       "    .dataframe tbody tr th:only-of-type {\n",
       "        vertical-align: middle;\n",
       "    }\n",
       "\n",
       "    .dataframe tbody tr th {\n",
       "        vertical-align: top;\n",
       "    }\n",
       "\n",
       "    .dataframe thead th {\n",
       "        text-align: right;\n",
       "    }\n",
       "</style>\n",
       "<table border=\"1\" class=\"dataframe\">\n",
       "  <thead>\n",
       "    <tr style=\"text-align: right;\">\n",
       "      <th></th>\n",
       "      <th>Event</th>\n",
       "      <th>Location</th>\n",
       "      <th>Venue</th>\n",
       "      <th>url</th>\n",
       "    </tr>\n",
       "  </thead>\n",
       "  <tbody>\n",
       "    <tr>\n",
       "      <th>0</th>\n",
       "      <td>CW 188: Cage Warriors 188</td>\n",
       "      <td>Dublin, Ireland</td>\n",
       "      <td>The RDS</td>\n",
       "      <td>https://mmadecisions.com/decision/15380/Marcus...</td>\n",
       "    </tr>\n",
       "    <tr>\n",
       "      <th>1</th>\n",
       "      <td>CW 188: Cage Warriors 188</td>\n",
       "      <td>Dublin, Ireland</td>\n",
       "      <td>The RDS</td>\n",
       "      <td>https://mmadecisions.com/decision/15379/Adam-D...</td>\n",
       "    </tr>\n",
       "    <tr>\n",
       "      <th>2</th>\n",
       "      <td>CW 188: Cage Warriors 188</td>\n",
       "      <td>Dublin, Ireland</td>\n",
       "      <td>The RDS</td>\n",
       "      <td>https://mmadecisions.com/decision/15378/Conor-...</td>\n",
       "    </tr>\n",
       "    <tr>\n",
       "      <th>3</th>\n",
       "      <td>CW 188: Cage Warriors 188</td>\n",
       "      <td>Dublin, Ireland</td>\n",
       "      <td>The RDS</td>\n",
       "      <td>https://mmadecisions.com/decision/15377/Alexan...</td>\n",
       "    </tr>\n",
       "    <tr>\n",
       "      <th>4</th>\n",
       "      <td>CW 188: Cage Warriors 188</td>\n",
       "      <td>Dublin, Ireland</td>\n",
       "      <td>The RDS</td>\n",
       "      <td>https://mmadecisions.com/decision/15376/Scott-...</td>\n",
       "    </tr>\n",
       "    <tr>\n",
       "      <th>5</th>\n",
       "      <td>CW 188: Cage Warriors 188</td>\n",
       "      <td>Dublin, Ireland</td>\n",
       "      <td>The RDS</td>\n",
       "      <td>https://mmadecisions.com/decision/15375/Ciaran...</td>\n",
       "    </tr>\n",
       "    <tr>\n",
       "      <th>6</th>\n",
       "      <td>CW 188: Cage Warriors 188</td>\n",
       "      <td>Dublin, Ireland</td>\n",
       "      <td>The RDS</td>\n",
       "      <td>https://mmadecisions.com/decision/15374/Matthe...</td>\n",
       "    </tr>\n",
       "    <tr>\n",
       "      <th>7</th>\n",
       "      <td>CW 188: Cage Warriors 188</td>\n",
       "      <td>Dublin, Ireland</td>\n",
       "      <td>The RDS</td>\n",
       "      <td>https://mmadecisions.com/decision/15373/Jamie-...</td>\n",
       "    </tr>\n",
       "    <tr>\n",
       "      <th>8</th>\n",
       "      <td>UFC on ESPN 66: Machado Garry vs. Prates</td>\n",
       "      <td>Kansas City, Missouri, USA</td>\n",
       "      <td>T-Mobile Center</td>\n",
       "      <td>https://mmadecisions.com/decision/15388/Matt-S...</td>\n",
       "    </tr>\n",
       "    <tr>\n",
       "      <th>9</th>\n",
       "      <td>UFC on ESPN 66: Machado Garry vs. Prates</td>\n",
       "      <td>Kansas City, Missouri, USA</td>\n",
       "      <td>T-Mobile Center</td>\n",
       "      <td>https://mmadecisions.com/decision/15387/Evan-E...</td>\n",
       "    </tr>\n",
       "  </tbody>\n",
       "</table>\n",
       "</div>"
      ],
      "text/plain": [
       "                                      Event                    Location  \\\n",
       "0                 CW 188: Cage Warriors 188             Dublin, Ireland   \n",
       "1                 CW 188: Cage Warriors 188             Dublin, Ireland   \n",
       "2                 CW 188: Cage Warriors 188             Dublin, Ireland   \n",
       "3                 CW 188: Cage Warriors 188             Dublin, Ireland   \n",
       "4                 CW 188: Cage Warriors 188             Dublin, Ireland   \n",
       "5                 CW 188: Cage Warriors 188             Dublin, Ireland   \n",
       "6                 CW 188: Cage Warriors 188             Dublin, Ireland   \n",
       "7                 CW 188: Cage Warriors 188             Dublin, Ireland   \n",
       "8  UFC on ESPN 66: Machado Garry vs. Prates  Kansas City, Missouri, USA   \n",
       "9  UFC on ESPN 66: Machado Garry vs. Prates  Kansas City, Missouri, USA   \n",
       "\n",
       "             Venue                                                url  \n",
       "0          The RDS  https://mmadecisions.com/decision/15380/Marcus...  \n",
       "1          The RDS  https://mmadecisions.com/decision/15379/Adam-D...  \n",
       "2          The RDS  https://mmadecisions.com/decision/15378/Conor-...  \n",
       "3          The RDS  https://mmadecisions.com/decision/15377/Alexan...  \n",
       "4          The RDS  https://mmadecisions.com/decision/15376/Scott-...  \n",
       "5          The RDS  https://mmadecisions.com/decision/15375/Ciaran...  \n",
       "6          The RDS  https://mmadecisions.com/decision/15374/Matthe...  \n",
       "7          The RDS  https://mmadecisions.com/decision/15373/Jamie-...  \n",
       "8  T-Mobile Center  https://mmadecisions.com/decision/15388/Matt-S...  \n",
       "9  T-Mobile Center  https://mmadecisions.com/decision/15387/Evan-E...  "
      ]
     },
     "execution_count": 5,
     "metadata": {},
     "output_type": "execute_result"
    }
   ],
   "source": [
    "all_fight_data = []\n",
    "\n",
    "for url in df_event['url']:\n",
    "  response = requests.get(url)\n",
    "  soup = BeautifulSoup(response.text, 'html.parser')\n",
    "\n",
    "  # Get event info\n",
    "  event_info_soup = soup.find_all('td', class_ = 'decision-top2')\n",
    "  current_event = []\n",
    "\n",
    "  for text in event_info_soup:\n",
    "      current_event.append(text.get_text(strip=True,separator='||| '))  # Add text from soup into a list as a single object with ||| as a delimiter\n",
    "\n",
    "\n",
    "  # Split items into different objects in the list\n",
    "  current_event = current_event[0].split('||| ')\n",
    "\n",
    "  for row in soup.find_all('td', class_='list2'):\n",
    "\n",
    "    # Find the <a> tag (if it exists) within the row\n",
    "    a_tag = row.find('a')\n",
    "\n",
    "    # Extract the href if found, otherwise set to None\n",
    "    href = ['https://mmadecisions.com/' + a_tag['href'] if a_tag else None]\n",
    "\n",
    "    href.extend(current_event)\n",
    "\n",
    "    all_fight_data.append(href)\n",
    "\n",
    "# Create dataframe\n",
    "df_fights = pd.DataFrame(all_fight_data,columns=['url', 'Event', 'Venue', 'Location'])\n",
    "df_fights['url'] = df_fights['url'].str.strip()\n",
    "\n",
    "# Reorder columns\n",
    "df_fights = df_fights[['Event', 'Location', 'Venue', 'url']]\n",
    "df_fights.head(10)\n"
   ]
  },
  {
   "cell_type": "code",
   "execution_count": 6,
   "metadata": {},
   "outputs": [],
   "source": [
    "# Sort descending by date\n",
    "df_event = df_event.sort_values(by='url', ascending=False)\n",
    "\n",
    "# Save to MMA_Events csv\n",
    "df_fights.to_csv('MMA_Decisions.csv', index=False)"
   ]
  },
  {
   "cell_type": "code",
   "execution_count": null,
   "metadata": {},
   "outputs": [],
   "source": [
    "list_scorecard = []\n",
    "\n",
    "for url in df_fights['url']:\n",
    "    fight_df = LIB.scorecard_scrape(url)\n",
    "    list_scorecard.append(fight_df)\n",
    "\n",
    "# Concatenate all the DataFrames into one\n",
    "df_scorecards = pd.concat(list_scorecard, ignore_index=True)"
   ]
  },
  {
   "cell_type": "code",
   "execution_count": null,
   "metadata": {},
   "outputs": [],
   "source": [
    "# Sort descending by date\n",
    "df_scorecards = df_scorecards.sort_values(by='url', ascending=False)\n",
    "\n",
    "# Save to MMA_Events csv\n",
    "df_scorecards.to_csv('MMA_Scorecards.csv', index=False)"
   ]
  }
 ],
 "metadata": {
  "kernelspec": {
   "display_name": "Python 3",
   "language": "python",
   "name": "python3"
  },
  "language_info": {
   "codemirror_mode": {
    "name": "ipython",
    "version": 3
   },
   "file_extension": ".py",
   "mimetype": "text/x-python",
   "name": "python",
   "nbconvert_exporter": "python",
   "pygments_lexer": "ipython3",
   "version": "3.12.1"
  }
 },
 "nbformat": 4,
 "nbformat_minor": 2
}
