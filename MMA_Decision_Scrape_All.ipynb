{
 "cells": [
  {
   "cell_type": "code",
   "execution_count": 19,
   "metadata": {},
   "outputs": [],
   "source": [
    "from datetime import datetime\n",
    "import requests\n",
    "import pandas as pd\n",
    "from bs4 import BeautifulSoup\n",
    "import re\n",
    "import UFC_Scrape_Library as LIB"
   ]
  },
  {
   "cell_type": "code",
   "execution_count": 2,
   "metadata": {},
   "outputs": [
    {
     "data": {
      "text/plain": [
       "['https://mmadecisions.com/decisions-by-event/1994/',\n",
       " 'https://mmadecisions.com/decisions-by-event/1995/',\n",
       " 'https://mmadecisions.com/decisions-by-event/1996/',\n",
       " 'https://mmadecisions.com/decisions-by-event/1997/',\n",
       " 'https://mmadecisions.com/decisions-by-event/1998/',\n",
       " 'https://mmadecisions.com/decisions-by-event/1999/',\n",
       " 'https://mmadecisions.com/decisions-by-event/2000/',\n",
       " 'https://mmadecisions.com/decisions-by-event/2001/',\n",
       " 'https://mmadecisions.com/decisions-by-event/2002/',\n",
       " 'https://mmadecisions.com/decisions-by-event/2003/',\n",
       " 'https://mmadecisions.com/decisions-by-event/2004/',\n",
       " 'https://mmadecisions.com/decisions-by-event/2005/',\n",
       " 'https://mmadecisions.com/decisions-by-event/2006/',\n",
       " 'https://mmadecisions.com/decisions-by-event/2007/',\n",
       " 'https://mmadecisions.com/decisions-by-event/2008/',\n",
       " 'https://mmadecisions.com/decisions-by-event/2009/',\n",
       " 'https://mmadecisions.com/decisions-by-event/2010/',\n",
       " 'https://mmadecisions.com/decisions-by-event/2011/',\n",
       " 'https://mmadecisions.com/decisions-by-event/2012/',\n",
       " 'https://mmadecisions.com/decisions-by-event/2013/',\n",
       " 'https://mmadecisions.com/decisions-by-event/2014/',\n",
       " 'https://mmadecisions.com/decisions-by-event/2015/',\n",
       " 'https://mmadecisions.com/decisions-by-event/2016/',\n",
       " 'https://mmadecisions.com/decisions-by-event/2017/',\n",
       " 'https://mmadecisions.com/decisions-by-event/2018/',\n",
       " 'https://mmadecisions.com/decisions-by-event/2019/',\n",
       " 'https://mmadecisions.com/decisions-by-event/2020/',\n",
       " 'https://mmadecisions.com/decisions-by-event/2021/',\n",
       " 'https://mmadecisions.com/decisions-by-event/2022/',\n",
       " 'https://mmadecisions.com/decisions-by-event/2023/',\n",
       " 'https://mmadecisions.com/decisions-by-event/2024/',\n",
       " 'https://mmadecisions.com/decisions-by-event/2025/']"
      ]
     },
     "execution_count": 2,
     "metadata": {},
     "output_type": "execute_result"
    }
   ],
   "source": [
    "urls_yearly_events = []\n",
    "currentyear = datetime.now().year\n",
    "\n",
    "for year in range(1994, currentyear + 1):\n",
    "    newurl = 'https://mmadecisions.com/decisions-by-event/' + str(year) + '/'\n",
    "    urls_yearly_events.append(newurl)\n",
    "\n",
    "urls_yearly_events"
   ]
  },
  {
   "cell_type": "code",
   "execution_count": null,
   "metadata": {},
   "outputs": [
    {
     "data": {
      "application/vnd.microsoft.datawrangler.viewer.v0+json": {
       "columns": [
        {
         "name": "index",
         "rawType": "int64",
         "type": "integer"
        },
        {
         "name": "Date",
         "rawType": "object",
         "type": "unknown"
        },
        {
         "name": "Event",
         "rawType": "object",
         "type": "string"
        },
        {
         "name": "NumFights",
         "rawType": "object",
         "type": "unknown"
        },
        {
         "name": "url",
         "rawType": "object",
         "type": "string"
        }
       ],
       "ref": "82e1f015-22ff-4cbb-bb34-35cad1518c14",
       "rows": [
        [
         "1514",
         "2025-05-31",
         "UFC on ESPN 68: Blanchfield vs. Barber",
         "5",
         "https://mmadecisions.com/event/1549/UFC-on-ESPN-68-Blanchfield-vs-Barber"
        ],
        [
         "1",
         "2025-04-26",
         "UFC on ESPN 66: Machado Garry vs. Prates",
         "4",
         "https://mmadecisions.com/event/1543/UFC-on-ESPN-66-Machado-Garry-vs-Prates"
        ],
        [
         "0",
         "2025-04-26",
         "CW 188: Cage Warriors 188",
         "8",
         "https://mmadecisions.com/event/1542/CW-188-Cage-Warriors-188"
        ],
        [
         "2",
         "2025-04-19",
         "CW 187: Glasgow",
         "3",
         "https://mmadecisions.com/event/1541/CW-187-Glasgow"
        ],
        [
         "3",
         "2025-04-18",
         "PFL 3: 2025 Season",
         "2",
         "https://mmadecisions.com/event/1540/PFL-3-2025-Season"
        ],
        [
         "4",
         "2025-04-12",
         "UFC 314: Volkanovski vs. Lopes",
         "5",
         "https://mmadecisions.com/event/1538/UFC-314-Volkanovski-vs-Lopes"
        ],
        [
         "5",
         "2025-04-11",
         "PFL 2: 2025 Season",
         "3",
         "https://mmadecisions.com/event/1539/PFL-2-2025-Season"
        ],
        [
         "6",
         "2025-04-05",
         "UFC on ESPN 65: Emmett vs. Murphy",
         "8",
         "https://mmadecisions.com/event/1536/UFC-on-ESPN-65-Emmett-vs-Murphy"
        ],
        [
         "7",
         "2025-04-03",
         "PFL 1: 2025 Season",
         "2",
         "https://mmadecisions.com/event/1537/PFL-1-2025-Season"
        ],
        [
         "8",
         "2025-03-29",
         "UFC on ESPN 64: Moreno vs. Erceg",
         "7",
         "https://mmadecisions.com/event/1535/UFC-on-ESPN-64-Moreno-vs-Erceg"
        ]
       ],
       "shape": {
        "columns": 4,
        "rows": 10
       }
      },
      "text/html": [
       "<div>\n",
       "<style scoped>\n",
       "    .dataframe tbody tr th:only-of-type {\n",
       "        vertical-align: middle;\n",
       "    }\n",
       "\n",
       "    .dataframe tbody tr th {\n",
       "        vertical-align: top;\n",
       "    }\n",
       "\n",
       "    .dataframe thead th {\n",
       "        text-align: right;\n",
       "    }\n",
       "</style>\n",
       "<table border=\"1\" class=\"dataframe\">\n",
       "  <thead>\n",
       "    <tr style=\"text-align: right;\">\n",
       "      <th></th>\n",
       "      <th>Date</th>\n",
       "      <th>Event</th>\n",
       "      <th>NumFights</th>\n",
       "      <th>url</th>\n",
       "    </tr>\n",
       "  </thead>\n",
       "  <tbody>\n",
       "    <tr>\n",
       "      <th>1514</th>\n",
       "      <td>2025-05-31</td>\n",
       "      <td>UFC on ESPN 68: Blanchfield vs. Barber</td>\n",
       "      <td>5</td>\n",
       "      <td>https://mmadecisions.com/event/1549/UFC-on-ESP...</td>\n",
       "    </tr>\n",
       "    <tr>\n",
       "      <th>1</th>\n",
       "      <td>2025-04-26</td>\n",
       "      <td>UFC on ESPN 66: Machado Garry vs. Prates</td>\n",
       "      <td>4</td>\n",
       "      <td>https://mmadecisions.com/event/1543/UFC-on-ESP...</td>\n",
       "    </tr>\n",
       "    <tr>\n",
       "      <th>0</th>\n",
       "      <td>2025-04-26</td>\n",
       "      <td>CW 188: Cage Warriors 188</td>\n",
       "      <td>8</td>\n",
       "      <td>https://mmadecisions.com/event/1542/CW-188-Cag...</td>\n",
       "    </tr>\n",
       "    <tr>\n",
       "      <th>2</th>\n",
       "      <td>2025-04-19</td>\n",
       "      <td>CW 187: Glasgow</td>\n",
       "      <td>3</td>\n",
       "      <td>https://mmadecisions.com/event/1541/CW-187-Gla...</td>\n",
       "    </tr>\n",
       "    <tr>\n",
       "      <th>3</th>\n",
       "      <td>2025-04-18</td>\n",
       "      <td>PFL 3: 2025 Season</td>\n",
       "      <td>2</td>\n",
       "      <td>https://mmadecisions.com/event/1540/PFL-3-2025...</td>\n",
       "    </tr>\n",
       "    <tr>\n",
       "      <th>4</th>\n",
       "      <td>2025-04-12</td>\n",
       "      <td>UFC 314: Volkanovski vs. Lopes</td>\n",
       "      <td>5</td>\n",
       "      <td>https://mmadecisions.com/event/1538/UFC-314-Vo...</td>\n",
       "    </tr>\n",
       "    <tr>\n",
       "      <th>5</th>\n",
       "      <td>2025-04-11</td>\n",
       "      <td>PFL 2: 2025 Season</td>\n",
       "      <td>3</td>\n",
       "      <td>https://mmadecisions.com/event/1539/PFL-2-2025...</td>\n",
       "    </tr>\n",
       "    <tr>\n",
       "      <th>6</th>\n",
       "      <td>2025-04-05</td>\n",
       "      <td>UFC on ESPN 65: Emmett vs. Murphy</td>\n",
       "      <td>8</td>\n",
       "      <td>https://mmadecisions.com/event/1536/UFC-on-ESP...</td>\n",
       "    </tr>\n",
       "    <tr>\n",
       "      <th>7</th>\n",
       "      <td>2025-04-03</td>\n",
       "      <td>PFL 1: 2025 Season</td>\n",
       "      <td>2</td>\n",
       "      <td>https://mmadecisions.com/event/1537/PFL-1-2025...</td>\n",
       "    </tr>\n",
       "    <tr>\n",
       "      <th>8</th>\n",
       "      <td>2025-03-29</td>\n",
       "      <td>UFC on ESPN 64: Moreno vs. Erceg</td>\n",
       "      <td>7</td>\n",
       "      <td>https://mmadecisions.com/event/1535/UFC-on-ESP...</td>\n",
       "    </tr>\n",
       "  </tbody>\n",
       "</table>\n",
       "</div>"
      ],
      "text/plain": [
       "            Date                                     Event NumFights  \\\n",
       "1514  2025-05-31    UFC on ESPN 68: Blanchfield vs. Barber         5   \n",
       "1     2025-04-26  UFC on ESPN 66: Machado Garry vs. Prates         4   \n",
       "0     2025-04-26                 CW 188: Cage Warriors 188         8   \n",
       "2     2025-04-19                           CW 187: Glasgow         3   \n",
       "3     2025-04-18                        PFL 3: 2025 Season         2   \n",
       "4     2025-04-12            UFC 314: Volkanovski vs. Lopes         5   \n",
       "5     2025-04-11                        PFL 2: 2025 Season         3   \n",
       "6     2025-04-05         UFC on ESPN 65: Emmett vs. Murphy         8   \n",
       "7     2025-04-03                        PFL 1: 2025 Season         2   \n",
       "8     2025-03-29          UFC on ESPN 64: Moreno vs. Erceg         7   \n",
       "\n",
       "                                                    url  \n",
       "1514  https://mmadecisions.com/event/1549/UFC-on-ESP...  \n",
       "1     https://mmadecisions.com/event/1543/UFC-on-ESP...  \n",
       "0     https://mmadecisions.com/event/1542/CW-188-Cag...  \n",
       "2     https://mmadecisions.com/event/1541/CW-187-Gla...  \n",
       "3     https://mmadecisions.com/event/1540/PFL-3-2025...  \n",
       "4     https://mmadecisions.com/event/1538/UFC-314-Vo...  \n",
       "5     https://mmadecisions.com/event/1539/PFL-2-2025...  \n",
       "6     https://mmadecisions.com/event/1536/UFC-on-ESP...  \n",
       "7     https://mmadecisions.com/event/1537/PFL-1-2025...  \n",
       "8     https://mmadecisions.com/event/1535/UFC-on-ESP...  "
      ]
     },
     "execution_count": 16,
     "metadata": {},
     "output_type": "execute_result"
    }
   ],
   "source": [
    "df_event = pd.read_csv('MMA_Events.csv')\n",
    "urls_events = df_event['url'].tolist()\n",
    "    \n",
    "for url in urls_yearly_events:\n",
    "\n",
    "    if url in urls_events:\n",
    "        continue\n",
    "\n",
    "    df_event_new = LIB.scrape_event_data(url)\n",
    "\n",
    "    df_event_all = pd.concat([df_event, df_event_new], ignore_index=True)\n",
    "\n",
    "# Sort descending by date\n",
    "df_event_all['Date'] = pd.to_datetime(df_event_all['Date']).dt.date\n",
    "df_event_all = df_event_all.sort_values(by='Date', ascending=False)\n",
    "\n",
    "df_event_all.head(10)"
   ]
  },
  {
   "cell_type": "code",
   "execution_count": null,
   "metadata": {},
   "outputs": [],
   "source": [
    "# Save to MMA_Events csv\n",
    "df_event_all.to_csv('MMA_Events.csv', index=False)"
   ]
  },
  {
   "cell_type": "code",
   "execution_count": 20,
   "metadata": {},
   "outputs": [
    {
     "ename": "NameError",
     "evalue": "name 'all_fight_data' is not defined",
     "output_type": "error",
     "traceback": [
      "\u001b[31m---------------------------------------------------------------------------\u001b[39m",
      "\u001b[31mNameError\u001b[39m                                 Traceback (most recent call last)",
      "\u001b[36mCell\u001b[39m\u001b[36m \u001b[39m\u001b[32mIn[20]\u001b[39m\u001b[32m, line 11\u001b[39m\n\u001b[32m      8\u001b[39m   \u001b[38;5;28;01mif\u001b[39;00m url \u001b[38;5;129;01min\u001b[39;00m urls_events:\n\u001b[32m      9\u001b[39m       \u001b[38;5;28;01mcontinue\u001b[39;00m\n\u001b[32m---> \u001b[39m\u001b[32m11\u001b[39m   df_decision_new = \u001b[43mLIB\u001b[49m\u001b[43m.\u001b[49m\u001b[43mscrape_fight_data\u001b[49m\u001b[43m(\u001b[49m\u001b[43murl\u001b[49m\u001b[43m)\u001b[49m\n\u001b[32m     13\u001b[39m   df_decision = pd.concat([df_decision, df_decision_new], ignore_index=\u001b[38;5;28;01mTrue\u001b[39;00m)\n\u001b[32m     15\u001b[39m \u001b[38;5;66;03m# Sort descending by date\u001b[39;00m\n",
      "\u001b[36mFile \u001b[39m\u001b[32m/workspaces/UFC_Rankings/UFC_Scrape_Library.py:100\u001b[39m, in \u001b[36mscrape_fight_data\u001b[39m\u001b[34m(url)\u001b[39m\n\u001b[32m     97\u001b[39m     all_fight_data.append(href)\n\u001b[32m     99\u001b[39m \u001b[38;5;66;03m# Create dataframe\u001b[39;00m\n\u001b[32m--> \u001b[39m\u001b[32m100\u001b[39m df_fights = pd.DataFrame(\u001b[43mall_fight_data\u001b[49m,columns=[\u001b[33m'\u001b[39m\u001b[33murl\u001b[39m\u001b[33m'\u001b[39m, \u001b[33m'\u001b[39m\u001b[33mEvent\u001b[39m\u001b[33m'\u001b[39m, \u001b[33m'\u001b[39m\u001b[33mVenue\u001b[39m\u001b[33m'\u001b[39m, \u001b[33m'\u001b[39m\u001b[33mLocation\u001b[39m\u001b[33m'\u001b[39m])\n\u001b[32m    101\u001b[39m df_fights[\u001b[33m'\u001b[39m\u001b[33murl\u001b[39m\u001b[33m'\u001b[39m] = df_fights[\u001b[33m'\u001b[39m\u001b[33murl\u001b[39m\u001b[33m'\u001b[39m].str.strip()\n\u001b[32m    103\u001b[39m \u001b[38;5;66;03m# Reorder columns\u001b[39;00m\n",
      "\u001b[31mNameError\u001b[39m: name 'all_fight_data' is not defined"
     ]
    }
   ],
   "source": [
    "all_fight_data = []\n",
    "\n",
    "df_decision = pd.read_csv('MMA_Decisions.csv')\n",
    "urls_decisions = df_decision['url'].tolist()\n",
    "\n",
    "for url in df_decision['url']:\n",
    "\n",
    "  if url in urls_events:\n",
    "      continue\n",
    "  \n",
    "  df_decision_new = LIB.scrape_fight_data(url)\n",
    "\n",
    "  df_decision = pd.concat([df_decision, df_decision_new], ignore_index=True)\n",
    "    \n",
    "# Sort descending by date\n",
    "df_decision = df_decision.sort_values(by='url', ascending=False)\n",
    "\n",
    "df_decision_new.head(10)\n"
   ]
  },
  {
   "cell_type": "code",
   "execution_count": null,
   "metadata": {},
   "outputs": [],
   "source": [
    "# Save to MMA_Events csv\n",
    "df_decision_all.to_csv('MMA_Decisions.csv', index=False)"
   ]
  },
  {
   "cell_type": "code",
   "execution_count": null,
   "metadata": {},
   "outputs": [
    {
     "ename": "ValueError",
     "evalue": "No objects to concatenate",
     "output_type": "error",
     "traceback": [
      "\u001b[1;31m---------------------------------------------------------------------------\u001b[0m",
      "\u001b[1;31mValueError\u001b[0m                                Traceback (most recent call last)",
      "Cell \u001b[1;32mIn[18], line 100\u001b[0m\n\u001b[0;32m     95\u001b[0m     df_scorecards \u001b[38;5;241m=\u001b[39m df_scorecards[[\u001b[38;5;124m'\u001b[39m\u001b[38;5;124mFight\u001b[39m\u001b[38;5;124m'\u001b[39m, \u001b[38;5;124m'\u001b[39m\u001b[38;5;124mJudge\u001b[39m\u001b[38;5;124m'\u001b[39m, \u001b[38;5;124m'\u001b[39m\u001b[38;5;124mRound\u001b[39m\u001b[38;5;124m'\u001b[39m, \u001b[38;5;124m'\u001b[39m\u001b[38;5;124mFighterOne\u001b[39m\u001b[38;5;124m'\u001b[39m, \u001b[38;5;124m'\u001b[39m\u001b[38;5;124mFighterTwo\u001b[39m\u001b[38;5;124m'\u001b[39m, \u001b[38;5;124m'\u001b[39m\u001b[38;5;124mScoreOne\u001b[39m\u001b[38;5;124m'\u001b[39m, \u001b[38;5;124m'\u001b[39m\u001b[38;5;124mScoreTwo\u001b[39m\u001b[38;5;124m'\u001b[39m, \u001b[38;5;124m'\u001b[39m\u001b[38;5;124murl\u001b[39m\u001b[38;5;124m'\u001b[39m]]\n\u001b[0;32m     97\u001b[0m     list_scorecard\u001b[38;5;241m.\u001b[39mappend(df_scorecards)\n\u001b[1;32m--> 100\u001b[0m df_scorecards \u001b[38;5;241m=\u001b[39m \u001b[43mpd\u001b[49m\u001b[38;5;241;43m.\u001b[39;49m\u001b[43mconcat\u001b[49m\u001b[43m(\u001b[49m\u001b[43mlist_scorecard\u001b[49m\u001b[43m,\u001b[49m\u001b[43m \u001b[49m\u001b[43mignore_index\u001b[49m\u001b[38;5;241;43m=\u001b[39;49m\u001b[38;5;28;43;01mTrue\u001b[39;49;00m\u001b[43m)\u001b[49m\n\u001b[0;32m    102\u001b[0m \u001b[38;5;28mprint\u001b[39m(\u001b[38;5;124m\"\u001b[39m\u001b[38;5;124mErrors:\u001b[39m\u001b[38;5;124m\"\u001b[39m,\u001b[38;5;28mlen\u001b[39m(error_urls))\n\u001b[0;32m    104\u001b[0m df_scorecards\u001b[38;5;241m.\u001b[39mhead(\u001b[38;5;241m10\u001b[39m)\n",
      "File \u001b[1;32mc:\\Users\\bpato\\AppData\\Local\\Programs\\Python\\Python311\\Lib\\site-packages\\pandas\\core\\reshape\\concat.py:380\u001b[0m, in \u001b[0;36mconcat\u001b[1;34m(objs, axis, join, ignore_index, keys, levels, names, verify_integrity, sort, copy)\u001b[0m\n\u001b[0;32m    377\u001b[0m \u001b[38;5;28;01melif\u001b[39;00m copy \u001b[38;5;129;01mand\u001b[39;00m using_copy_on_write():\n\u001b[0;32m    378\u001b[0m     copy \u001b[38;5;241m=\u001b[39m \u001b[38;5;28;01mFalse\u001b[39;00m\n\u001b[1;32m--> 380\u001b[0m op \u001b[38;5;241m=\u001b[39m \u001b[43m_Concatenator\u001b[49m\u001b[43m(\u001b[49m\n\u001b[0;32m    381\u001b[0m \u001b[43m    \u001b[49m\u001b[43mobjs\u001b[49m\u001b[43m,\u001b[49m\n\u001b[0;32m    382\u001b[0m \u001b[43m    \u001b[49m\u001b[43maxis\u001b[49m\u001b[38;5;241;43m=\u001b[39;49m\u001b[43maxis\u001b[49m\u001b[43m,\u001b[49m\n\u001b[0;32m    383\u001b[0m \u001b[43m    \u001b[49m\u001b[43mignore_index\u001b[49m\u001b[38;5;241;43m=\u001b[39;49m\u001b[43mignore_index\u001b[49m\u001b[43m,\u001b[49m\n\u001b[0;32m    384\u001b[0m \u001b[43m    \u001b[49m\u001b[43mjoin\u001b[49m\u001b[38;5;241;43m=\u001b[39;49m\u001b[43mjoin\u001b[49m\u001b[43m,\u001b[49m\n\u001b[0;32m    385\u001b[0m \u001b[43m    \u001b[49m\u001b[43mkeys\u001b[49m\u001b[38;5;241;43m=\u001b[39;49m\u001b[43mkeys\u001b[49m\u001b[43m,\u001b[49m\n\u001b[0;32m    386\u001b[0m \u001b[43m    \u001b[49m\u001b[43mlevels\u001b[49m\u001b[38;5;241;43m=\u001b[39;49m\u001b[43mlevels\u001b[49m\u001b[43m,\u001b[49m\n\u001b[0;32m    387\u001b[0m \u001b[43m    \u001b[49m\u001b[43mnames\u001b[49m\u001b[38;5;241;43m=\u001b[39;49m\u001b[43mnames\u001b[49m\u001b[43m,\u001b[49m\n\u001b[0;32m    388\u001b[0m \u001b[43m    \u001b[49m\u001b[43mverify_integrity\u001b[49m\u001b[38;5;241;43m=\u001b[39;49m\u001b[43mverify_integrity\u001b[49m\u001b[43m,\u001b[49m\n\u001b[0;32m    389\u001b[0m \u001b[43m    \u001b[49m\u001b[43mcopy\u001b[49m\u001b[38;5;241;43m=\u001b[39;49m\u001b[43mcopy\u001b[49m\u001b[43m,\u001b[49m\n\u001b[0;32m    390\u001b[0m \u001b[43m    \u001b[49m\u001b[43msort\u001b[49m\u001b[38;5;241;43m=\u001b[39;49m\u001b[43msort\u001b[49m\u001b[43m,\u001b[49m\n\u001b[0;32m    391\u001b[0m \u001b[43m\u001b[49m\u001b[43m)\u001b[49m\n\u001b[0;32m    393\u001b[0m \u001b[38;5;28;01mreturn\u001b[39;00m op\u001b[38;5;241m.\u001b[39mget_result()\n",
      "File \u001b[1;32mc:\\Users\\bpato\\AppData\\Local\\Programs\\Python\\Python311\\Lib\\site-packages\\pandas\\core\\reshape\\concat.py:443\u001b[0m, in \u001b[0;36m_Concatenator.__init__\u001b[1;34m(self, objs, axis, join, keys, levels, names, ignore_index, verify_integrity, copy, sort)\u001b[0m\n\u001b[0;32m    440\u001b[0m \u001b[38;5;28mself\u001b[39m\u001b[38;5;241m.\u001b[39mverify_integrity \u001b[38;5;241m=\u001b[39m verify_integrity\n\u001b[0;32m    441\u001b[0m \u001b[38;5;28mself\u001b[39m\u001b[38;5;241m.\u001b[39mcopy \u001b[38;5;241m=\u001b[39m copy\n\u001b[1;32m--> 443\u001b[0m objs, keys \u001b[38;5;241m=\u001b[39m \u001b[38;5;28;43mself\u001b[39;49m\u001b[38;5;241;43m.\u001b[39;49m\u001b[43m_clean_keys_and_objs\u001b[49m\u001b[43m(\u001b[49m\u001b[43mobjs\u001b[49m\u001b[43m,\u001b[49m\u001b[43m \u001b[49m\u001b[43mkeys\u001b[49m\u001b[43m)\u001b[49m\n\u001b[0;32m    445\u001b[0m \u001b[38;5;66;03m# figure out what our result ndim is going to be\u001b[39;00m\n\u001b[0;32m    446\u001b[0m ndims \u001b[38;5;241m=\u001b[39m \u001b[38;5;28mself\u001b[39m\u001b[38;5;241m.\u001b[39m_get_ndims(objs)\n",
      "File \u001b[1;32mc:\\Users\\bpato\\AppData\\Local\\Programs\\Python\\Python311\\Lib\\site-packages\\pandas\\core\\reshape\\concat.py:505\u001b[0m, in \u001b[0;36m_Concatenator._clean_keys_and_objs\u001b[1;34m(self, objs, keys)\u001b[0m\n\u001b[0;32m    502\u001b[0m     objs_list \u001b[38;5;241m=\u001b[39m \u001b[38;5;28mlist\u001b[39m(objs)\n\u001b[0;32m    504\u001b[0m \u001b[38;5;28;01mif\u001b[39;00m \u001b[38;5;28mlen\u001b[39m(objs_list) \u001b[38;5;241m==\u001b[39m \u001b[38;5;241m0\u001b[39m:\n\u001b[1;32m--> 505\u001b[0m     \u001b[38;5;28;01mraise\u001b[39;00m \u001b[38;5;167;01mValueError\u001b[39;00m(\u001b[38;5;124m\"\u001b[39m\u001b[38;5;124mNo objects to concatenate\u001b[39m\u001b[38;5;124m\"\u001b[39m)\n\u001b[0;32m    507\u001b[0m \u001b[38;5;28;01mif\u001b[39;00m keys \u001b[38;5;129;01mis\u001b[39;00m \u001b[38;5;28;01mNone\u001b[39;00m:\n\u001b[0;32m    508\u001b[0m     objs_list \u001b[38;5;241m=\u001b[39m \u001b[38;5;28mlist\u001b[39m(com\u001b[38;5;241m.\u001b[39mnot_none(\u001b[38;5;241m*\u001b[39mobjs_list))\n",
      "\u001b[1;31mValueError\u001b[0m: No objects to concatenate"
     ]
    }
   ],
   "source": [
    "list_scorecard = []\n",
    "error_urls = []\n",
    "urls_scorecard = pd.read_csv('MMA_Scorecards.csv')['url'].tolist()\n",
    "\n",
    "for url in df_fights['url']:\n",
    "    #Check if the scorecard has already been scraped\n",
    "    if url in urls_scorecard:\n",
    "        continue\n",
    "\n",
    "    response = requests.get(url)\n",
    "    soup = BeautifulSoup(response.text, 'html.parser')\n",
    "\n",
    "    tables = soup.find_all('table')\n",
    "    try:\n",
    "        second_table = tables[2]\n",
    "    except IndexError:\n",
    "        try:\n",
    "            second_table = tables[1]\n",
    "        except IndexError:\n",
    "            error_urls.append(url)\n",
    "            continue\n",
    "\n",
    "    # Find all tr elements with class \"top-row\" or \"decision\"\n",
    "    rows = second_table.find_all('tr', class_=['top-row', 'decision'])\n",
    "\n",
    "    # Filter out rows with class \"decision-bottom2\" and \"Tale of the Tape\" text\n",
    "    filtered_rows = [\n",
    "        row for row in rows\n",
    "        if 'decision-bottom2' not in row.get('class', []) and \"TALE OF THE TAPE\" not in row.text\n",
    "    ]\n",
    "\n",
    "    # Initialize an empty list to store data\n",
    "    data = []\n",
    "\n",
    "    # Extract data and append to the list\n",
    "    for row in filtered_rows:\n",
    "        row_text = row.get_text(strip=False)  # Get the text content of the row\n",
    "        row_data = row_text.splitlines()  # Split the text into lines\n",
    "        data.append(row_data)\n",
    "\n",
    "    # Create the DataFrame\n",
    "    df_scorecards = pd.DataFrame(data)\n",
    "    df_scorecards = df_scorecards[[1, 2, 3]]\n",
    "    df_scorecards = df_scorecards[~df_scorecards[1].str.contains(\"LEGEND\")]\n",
    "\n",
    "    # Reset the index (optional)\n",
    "    df_scorecards = df_scorecards.reset_index(drop=True)\n",
    "    \n",
    "    fight = url.rsplit('/', 1)[-1].replace('-', ' ').strip()\n",
    "    fighter_one = fight.rsplit('vs', 1)[0].strip()\n",
    "    try:\n",
    "        fighter_two = fight.rsplit('vs', 1)[1].strip()\n",
    "    except IndexError:\n",
    "        error_urls.append(url)\n",
    "        continue\n",
    "\n",
    "    # Find the index of the row with blank values in columns 1 and 3\n",
    "    try:\n",
    "        blank_row_index = df_scorecards[(df_scorecards[1] == '') & (df_scorecards[3] == '')].index[0]\n",
    "    except IndexError:\n",
    "        error_urls.append(url)\n",
    "        continue\n",
    "\n",
    "    # Remove all rows above the blank row\n",
    "    df_scorecards = df_scorecards[blank_row_index:]\n",
    "    \n",
    "    # Reset the index\n",
    "    df_scorecards = df_scorecards.reset_index(drop=True)\n",
    "\n",
    "    df_scorecards = df_scorecards[~df_scorecards[1].str.contains(\"ROUND\")]\n",
    "\n",
    "    df_scorecards['Judge'] = ''\n",
    "\n",
    "    current_judge = None\n",
    "\n",
    "    for index, row in df_scorecards.iterrows():\n",
    "        # Extract the value from column 2\n",
    "        value = row[2]\n",
    "\n",
    "        # Check if the value contains a judge's name\n",
    "        if any(char.isalpha() for char in value):  # Check if any character is alphabetic\n",
    "            current_judge = value  # Update current_judge if it's a judge's name\n",
    "\n",
    "        # Assign the current_judge to the 'Judge' column\n",
    "        df_scorecards.loc[index, 'Judge'] = current_judge\n",
    "    \n",
    "    df_scorecards = df_scorecards[df_scorecards[1] != '']\n",
    "    df_scorecards = df_scorecards.rename(columns={1: 'Round', 2: 'ScoreOne', 3: 'ScoreTwo'})\n",
    "\n",
    "    df_scorecards['FighterOne'] = fighter_one\n",
    "    df_scorecards['FighterTwo'] = fighter_two\n",
    "    df_scorecards['Fight'] = fight\n",
    "    df_scorecards['url'] = url\n",
    "\n",
    "    df_scorecards = df_scorecards[['Fight', 'Judge', 'Round', 'FighterOne', 'FighterTwo', 'ScoreOne', 'ScoreTwo', 'url']]\n",
    "    \n",
    "    list_scorecard.append(df_scorecards)\n",
    "\n",
    "if len(list_scorecard) > 0:\n",
    "    df_scorecards = pd.concat(list_scorecard, ignore_index=True)\n",
    "\n",
    "print(\"Errors:\",len(error_urls))\n",
    "\n",
    "df_scorecards.head(10)"
   ]
  },
  {
   "cell_type": "code",
   "execution_count": null,
   "metadata": {},
   "outputs": [],
   "source": [
    "# Sort descending by date\n",
    "df_scorecards = df_scorecards.sort_values(by='url', ascending=False)\n",
    "\n",
    "# Save to MMA_Scorecards csv\n",
    "df_scorecards.to_csv('MMA_Scorecards.csv', index=False)"
   ]
  },
  {
   "cell_type": "code",
   "execution_count": null,
   "metadata": {},
   "outputs": [
    {
     "name": "stdout",
     "output_type": "stream",
     "text": [
      "63888\n"
     ]
    }
   ],
   "source": [
    "pd.read_csv('MMA_Scorecards.csv')['url'].tolist()"
   ]
  }
 ],
 "metadata": {
  "kernelspec": {
   "display_name": "Python 3",
   "language": "python",
   "name": "python3"
  },
  "language_info": {
   "codemirror_mode": {
    "name": "ipython",
    "version": 3
   },
   "file_extension": ".py",
   "mimetype": "text/x-python",
   "name": "python",
   "nbconvert_exporter": "python",
   "pygments_lexer": "ipython3",
   "version": "3.12.1"
  }
 },
 "nbformat": 4,
 "nbformat_minor": 2
}
